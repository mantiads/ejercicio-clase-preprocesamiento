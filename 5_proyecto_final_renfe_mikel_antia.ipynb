{
 "cells": [
  {
   "cell_type": "markdown",
   "metadata": {},
   "source": [
    "![Nuclio logo](https://nuclio.school/wp-content/uploads/2018/12/nucleoDS-newBlack.png)\n",
    "\n",
    "# Proyecto final - Data Analytics y Business Intelligence\n",
    "\n",
    "Recibimos dos datasets:\n",
    "\n",
    "1. `renfe.csv`: Información de búsquedas de billetes que se ha extrajo de la página de Renfe.\n",
    "2. `coordenadas_ciudades.csv`: Latitud y longitud de provincias españolas.\n",
    "\n",
    "Queremos usar estos datasets para un modelo de Machine Learning que utilizaremos para predecir los precios de los billetes. Y, para ello, necesitamos limpiar, explorar y pre-procesar el dataset.\n",
    "\n",
    "## Reglas de juego\n",
    "\n",
    "1. El proyecto se debe entregar en grupos de dos o individualmente. \n",
    "2. Cada respuesta correcta suma un punto.\n",
    "3. La calificación final consistirá en la suma de todos los puntos obtenidos sobre el total de puntos posibles.\n",
    "\n",
    "\n",
    "## Diccionario de datos\n",
    "\n",
    "Esta es la información provista:\n",
    "\n",
    "### `renfe.csv`\n",
    "- `FECHA_CONSULTA`: Fecha en la que se consultó la página.\n",
    "- `FECHA_INICIO`: Fecha de inicio del trayecto.\n",
    "- `FECHA_FIN`: Fecha de finalización del trayecto.\n",
    "- `CIUDAD_ORIGEN`: Ciudad de origen del trayecto.\n",
    "- `CIUDAD_DESTINO`: Ciudad destino del trayecto.\n",
    "- `TIPO_TREN`: Tipo de tren.\n",
    "- `TIPO_TARIFA`: Tipo de tarifa del billete.\n",
    "- `CLASE`: Clase del asiento seleccionado.\n",
    "- `PRECIO`: Precio del tren seleccionado.\n",
    "\n",
    "### `coordenadas_ciudades.csv`\n",
    "- `ciudad`: Nombre de la ciudad.\n",
    "- `latitud`: Coordenada de latitud de la ciudad.\n",
    "- `longitud`: Coordenada de longitud de la ciudad."
   ]
  },
  {
   "cell_type": "markdown",
   "metadata": {},
   "source": [
    "## Importar librerías"
   ]
  },
  {
   "cell_type": "code",
   "execution_count": 3,
   "metadata": {},
   "outputs": [],
   "source": [
    "import pandas as pd\n",
    "import numpy as np"
   ]
  },
  {
   "cell_type": "markdown",
   "metadata": {},
   "source": [
    "## P0: Lee el dataset `renfe.csv`"
   ]
  },
  {
   "cell_type": "code",
   "execution_count": 4,
   "metadata": {},
   "outputs": [],
   "source": [
    "renfe_df= pd.read_csv('renfe.csv',sep=';')\n"
   ]
  },
  {
   "cell_type": "markdown",
   "metadata": {},
   "source": [
    "## P1: Visualiza las primeras y las últimas filas del dataset"
   ]
  },
  {
   "cell_type": "code",
   "execution_count": 5,
   "metadata": {},
   "outputs": [
    {
     "data": {
      "text/html": [
       "<div>\n",
       "<style scoped>\n",
       "    .dataframe tbody tr th:only-of-type {\n",
       "        vertical-align: middle;\n",
       "    }\n",
       "\n",
       "    .dataframe tbody tr th {\n",
       "        vertical-align: top;\n",
       "    }\n",
       "\n",
       "    .dataframe thead th {\n",
       "        text-align: right;\n",
       "    }\n",
       "</style>\n",
       "<table border=\"1\" class=\"dataframe\">\n",
       "  <thead>\n",
       "    <tr style=\"text-align: right;\">\n",
       "      <th></th>\n",
       "      <th>FECHA_CONSULTA</th>\n",
       "      <th>FECHA_INICIO</th>\n",
       "      <th>FECHA_FIN</th>\n",
       "      <th>CIUDAD_ORIGEN</th>\n",
       "      <th>CIUDAD_DESTINO</th>\n",
       "      <th>TIPO_TREN</th>\n",
       "      <th>TIPO_TARIFA</th>\n",
       "      <th>CLASE</th>\n",
       "      <th>PRECIO</th>\n",
       "    </tr>\n",
       "  </thead>\n",
       "  <tbody>\n",
       "    <tr>\n",
       "      <th>0</th>\n",
       "      <td>2019-05-25 01:43:03</td>\n",
       "      <td>2019-06-28 20:36:00</td>\n",
       "      <td>2019-06-28 23:14:00</td>\n",
       "      <td>SEVILLA</td>\n",
       "      <td>MADRID</td>\n",
       "      <td>ALVIA</td>\n",
       "      <td>Flexible</td>\n",
       "      <td>Turista</td>\n",
       "      <td>67.20</td>\n",
       "    </tr>\n",
       "    <tr>\n",
       "      <th>1</th>\n",
       "      <td>2019-06-22 13:05:11</td>\n",
       "      <td>2019-07-14 10:00:00</td>\n",
       "      <td>2019-07-14 13:10:00</td>\n",
       "      <td>BARCELONA</td>\n",
       "      <td>MADRID</td>\n",
       "      <td>AVE</td>\n",
       "      <td>Flexible</td>\n",
       "      <td>Turista</td>\n",
       "      <td>107.70</td>\n",
       "    </tr>\n",
       "    <tr>\n",
       "      <th>2</th>\n",
       "      <td>2019-04-17 06:24:03</td>\n",
       "      <td>2019-05-23 13:40:00</td>\n",
       "      <td>2019-05-23 16:10:00</td>\n",
       "      <td>SEVILLA</td>\n",
       "      <td>MADRID</td>\n",
       "      <td>AVE</td>\n",
       "      <td>Promo</td>\n",
       "      <td>Turista</td>\n",
       "      <td>47.30</td>\n",
       "    </tr>\n",
       "    <tr>\n",
       "      <th>3</th>\n",
       "      <td>2019-05-10 21:21:59</td>\n",
       "      <td>2019-05-29 14:50:00</td>\n",
       "      <td>2019-05-29 22:30:00</td>\n",
       "      <td>VALENCIA</td>\n",
       "      <td>MADRID</td>\n",
       "      <td>REGIONAL</td>\n",
       "      <td>Adulto ida</td>\n",
       "      <td>Turista</td>\n",
       "      <td>28.35</td>\n",
       "    </tr>\n",
       "    <tr>\n",
       "      <th>4</th>\n",
       "      <td>2019-05-09 19:43:37</td>\n",
       "      <td>2019-06-26 13:25:00</td>\n",
       "      <td>2019-06-26 16:24:00</td>\n",
       "      <td>MADRID</td>\n",
       "      <td>BARCELONA</td>\n",
       "      <td>AVE-TGV</td>\n",
       "      <td>Promo</td>\n",
       "      <td>Turista</td>\n",
       "      <td>66.75</td>\n",
       "    </tr>\n",
       "  </tbody>\n",
       "</table>\n",
       "</div>"
      ],
      "text/plain": [
       "        FECHA_CONSULTA         FECHA_INICIO            FECHA_FIN  \\\n",
       "0  2019-05-25 01:43:03  2019-06-28 20:36:00  2019-06-28 23:14:00   \n",
       "1  2019-06-22 13:05:11  2019-07-14 10:00:00  2019-07-14 13:10:00   \n",
       "2  2019-04-17 06:24:03  2019-05-23 13:40:00  2019-05-23 16:10:00   \n",
       "3  2019-05-10 21:21:59  2019-05-29 14:50:00  2019-05-29 22:30:00   \n",
       "4  2019-05-09 19:43:37  2019-06-26 13:25:00  2019-06-26 16:24:00   \n",
       "\n",
       "  CIUDAD_ORIGEN CIUDAD_DESTINO TIPO_TREN TIPO_TARIFA    CLASE  PRECIO  \n",
       "0       SEVILLA         MADRID     ALVIA    Flexible  Turista   67.20  \n",
       "1     BARCELONA         MADRID       AVE    Flexible  Turista  107.70  \n",
       "2       SEVILLA         MADRID       AVE       Promo  Turista   47.30  \n",
       "3      VALENCIA         MADRID  REGIONAL  Adulto ida  Turista   28.35  \n",
       "4        MADRID      BARCELONA   AVE-TGV       Promo  Turista   66.75  "
      ]
     },
     "execution_count": 5,
     "metadata": {},
     "output_type": "execute_result"
    }
   ],
   "source": [
    "renfe_df.head()\n"
   ]
  },
  {
   "cell_type": "code",
   "execution_count": 6,
   "metadata": {},
   "outputs": [
    {
     "data": {
      "text/html": [
       "<div>\n",
       "<style scoped>\n",
       "    .dataframe tbody tr th:only-of-type {\n",
       "        vertical-align: middle;\n",
       "    }\n",
       "\n",
       "    .dataframe tbody tr th {\n",
       "        vertical-align: top;\n",
       "    }\n",
       "\n",
       "    .dataframe thead th {\n",
       "        text-align: right;\n",
       "    }\n",
       "</style>\n",
       "<table border=\"1\" class=\"dataframe\">\n",
       "  <thead>\n",
       "    <tr style=\"text-align: right;\">\n",
       "      <th></th>\n",
       "      <th>FECHA_CONSULTA</th>\n",
       "      <th>FECHA_INICIO</th>\n",
       "      <th>FECHA_FIN</th>\n",
       "      <th>CIUDAD_ORIGEN</th>\n",
       "      <th>CIUDAD_DESTINO</th>\n",
       "      <th>TIPO_TREN</th>\n",
       "      <th>TIPO_TARIFA</th>\n",
       "      <th>CLASE</th>\n",
       "      <th>PRECIO</th>\n",
       "    </tr>\n",
       "  </thead>\n",
       "  <tbody>\n",
       "    <tr>\n",
       "      <th>383563</th>\n",
       "      <td>2019-05-06 05:11:53</td>\n",
       "      <td>2019-05-10 19:40:00</td>\n",
       "      <td>2019-05-10 21:29:00</td>\n",
       "      <td>MADRID</td>\n",
       "      <td>VALENCIA</td>\n",
       "      <td>AVE</td>\n",
       "      <td>Flexible</td>\n",
       "      <td>Turista</td>\n",
       "      <td>73.10</td>\n",
       "    </tr>\n",
       "    <tr>\n",
       "      <th>383564</th>\n",
       "      <td>2019-06-19 21:48:56</td>\n",
       "      <td>2019-08-05 20:00:00</td>\n",
       "      <td>2019-08-05 23:10:00</td>\n",
       "      <td>BARCELONA</td>\n",
       "      <td>MADRID</td>\n",
       "      <td>AVE</td>\n",
       "      <td>Promo</td>\n",
       "      <td>Preferente</td>\n",
       "      <td>54.45</td>\n",
       "    </tr>\n",
       "    <tr>\n",
       "      <th>383565</th>\n",
       "      <td>2019-04-24 23:21:44</td>\n",
       "      <td>2019-04-29 16:15:00</td>\n",
       "      <td>2019-04-29 17:55:00</td>\n",
       "      <td>VALENCIA</td>\n",
       "      <td>MADRID</td>\n",
       "      <td>AVE</td>\n",
       "      <td>Promo</td>\n",
       "      <td>Turista</td>\n",
       "      <td>27.80</td>\n",
       "    </tr>\n",
       "    <tr>\n",
       "      <th>383566</th>\n",
       "      <td>2019-05-27 21:05:19</td>\n",
       "      <td>2019-07-07 15:00:00</td>\n",
       "      <td>2019-07-07 17:21:00</td>\n",
       "      <td>MADRID</td>\n",
       "      <td>SEVILLA</td>\n",
       "      <td>AVE</td>\n",
       "      <td>Promo</td>\n",
       "      <td>Turista</td>\n",
       "      <td>47.30</td>\n",
       "    </tr>\n",
       "    <tr>\n",
       "      <th>383567</th>\n",
       "      <td>2019-05-27 15:04:14</td>\n",
       "      <td>2019-06-16 18:35:00</td>\n",
       "      <td>2019-06-16 20:21:00</td>\n",
       "      <td>VALENCIA</td>\n",
       "      <td>MADRID</td>\n",
       "      <td>AVE</td>\n",
       "      <td>Flexible</td>\n",
       "      <td>Turista</td>\n",
       "      <td>73.10</td>\n",
       "    </tr>\n",
       "  </tbody>\n",
       "</table>\n",
       "</div>"
      ],
      "text/plain": [
       "             FECHA_CONSULTA         FECHA_INICIO            FECHA_FIN  \\\n",
       "383563  2019-05-06 05:11:53  2019-05-10 19:40:00  2019-05-10 21:29:00   \n",
       "383564  2019-06-19 21:48:56  2019-08-05 20:00:00  2019-08-05 23:10:00   \n",
       "383565  2019-04-24 23:21:44  2019-04-29 16:15:00  2019-04-29 17:55:00   \n",
       "383566  2019-05-27 21:05:19  2019-07-07 15:00:00  2019-07-07 17:21:00   \n",
       "383567  2019-05-27 15:04:14  2019-06-16 18:35:00  2019-06-16 20:21:00   \n",
       "\n",
       "       CIUDAD_ORIGEN CIUDAD_DESTINO TIPO_TREN TIPO_TARIFA       CLASE  PRECIO  \n",
       "383563        MADRID       VALENCIA       AVE    Flexible     Turista   73.10  \n",
       "383564     BARCELONA         MADRID       AVE       Promo  Preferente   54.45  \n",
       "383565      VALENCIA         MADRID       AVE       Promo     Turista   27.80  \n",
       "383566        MADRID        SEVILLA       AVE       Promo     Turista   47.30  \n",
       "383567      VALENCIA         MADRID       AVE    Flexible     Turista   73.10  "
      ]
     },
     "execution_count": 6,
     "metadata": {},
     "output_type": "execute_result"
    }
   ],
   "source": [
    "renfe_df.tail()"
   ]
  },
  {
   "cell_type": "markdown",
   "metadata": {},
   "source": [
    "## P2: ¿Cuantas filas y columnas tiene el dataset?"
   ]
  },
  {
   "cell_type": "code",
   "execution_count": 7,
   "metadata": {},
   "outputs": [
    {
     "name": "stdout",
     "output_type": "stream",
     "text": [
      "El Dataset tiene 383568 filas y 9 columnas\n"
     ]
    }
   ],
   "source": [
    "renfe_df.shape\n",
    "print('El Dataset tiene',renfe_df.shape[0],'filas y',renfe_df.shape[1],'columnas' )"
   ]
  },
  {
   "cell_type": "markdown",
   "metadata": {},
   "source": [
    "## P3: Cambia los nombres de todas las columnas a minúsculas"
   ]
  },
  {
   "cell_type": "code",
   "execution_count": 8,
   "metadata": {},
   "outputs": [
    {
     "data": {
      "text/plain": [
       "Index(['FECHA_CONSULTA', 'FECHA_INICIO', 'FECHA_FIN', 'CIUDAD_ORIGEN',\n",
       "       'CIUDAD_DESTINO', 'TIPO_TREN', 'TIPO_TARIFA', 'CLASE', 'PRECIO'],\n",
       "      dtype='object')"
      ]
     },
     "execution_count": 8,
     "metadata": {},
     "output_type": "execute_result"
    }
   ],
   "source": [
    "renfe_df.columns"
   ]
  },
  {
   "cell_type": "code",
   "execution_count": 9,
   "metadata": {},
   "outputs": [],
   "source": [
    "renfe_df.columns = renfe_df.columns.str.lower()"
   ]
  },
  {
   "cell_type": "code",
   "execution_count": 10,
   "metadata": {},
   "outputs": [
    {
     "data": {
      "text/plain": [
       "Index(['fecha_consulta', 'fecha_inicio', 'fecha_fin', 'ciudad_origen',\n",
       "       'ciudad_destino', 'tipo_tren', 'tipo_tarifa', 'clase', 'precio'],\n",
       "      dtype='object')"
      ]
     },
     "execution_count": 10,
     "metadata": {},
     "output_type": "execute_result"
    }
   ],
   "source": [
    "renfe_df.columns"
   ]
  },
  {
   "cell_type": "markdown",
   "metadata": {},
   "source": [
    "## P4: Muestra los tipos de datos de cada columna"
   ]
  },
  {
   "cell_type": "code",
   "execution_count": 11,
   "metadata": {},
   "outputs": [
    {
     "data": {
      "text/plain": [
       "fecha_consulta     object\n",
       "fecha_inicio       object\n",
       "fecha_fin          object\n",
       "ciudad_origen      object\n",
       "ciudad_destino     object\n",
       "tipo_tren          object\n",
       "tipo_tarifa        object\n",
       "clase              object\n",
       "precio            float64\n",
       "dtype: object"
      ]
     },
     "execution_count": 11,
     "metadata": {},
     "output_type": "execute_result"
    }
   ],
   "source": [
    "renfe_df.dtypes"
   ]
  },
  {
   "cell_type": "markdown",
   "metadata": {},
   "source": [
    "## P5: Cambia los tipos de datos que creas que creas incorrectos, por los tipos adecuados"
   ]
  },
  {
   "cell_type": "code",
   "execution_count": 12,
   "metadata": {},
   "outputs": [],
   "source": [
    "renfe_df['fecha_consulta'] = renfe_df['fecha_consulta'].astype('datetime64')\n",
    "renfe_df['fecha_inicio'] = renfe_df['fecha_inicio'].astype('datetime64')\n",
    "renfe_df['fecha_fin'] = renfe_df['fecha_fin'].astype('datetime64')"
   ]
  },
  {
   "cell_type": "code",
   "execution_count": 13,
   "metadata": {},
   "outputs": [
    {
     "data": {
      "text/plain": [
       "fecha_consulta    datetime64[ns]\n",
       "fecha_inicio      datetime64[ns]\n",
       "fecha_fin         datetime64[ns]\n",
       "ciudad_origen             object\n",
       "ciudad_destino            object\n",
       "tipo_tren                 object\n",
       "tipo_tarifa               object\n",
       "clase                     object\n",
       "precio                   float64\n",
       "dtype: object"
      ]
     },
     "execution_count": 13,
     "metadata": {},
     "output_type": "execute_result"
    }
   ],
   "source": [
    "renfe_df.dtypes"
   ]
  },
  {
   "cell_type": "markdown",
   "metadata": {},
   "source": [
    "## P6: Filas duplicadas"
   ]
  },
  {
   "cell_type": "markdown",
   "metadata": {},
   "source": [
    "### P6.1: ¿Cuántas filas duplicadas tiene el dataset?"
   ]
  },
  {
   "cell_type": "code",
   "execution_count": 14,
   "metadata": {},
   "outputs": [
    {
     "data": {
      "text/plain": [
       "False    383535\n",
       "True         33\n",
       "dtype: int64"
      ]
     },
     "execution_count": 14,
     "metadata": {},
     "output_type": "execute_result"
    }
   ],
   "source": [
    "renfe_df.duplicated().value_counts()"
   ]
  },
  {
   "cell_type": "markdown",
   "metadata": {},
   "source": [
    "Tiene 33 filas duplicadas"
   ]
  },
  {
   "cell_type": "markdown",
   "metadata": {},
   "source": [
    "### P6.2: Quita las filas duplicadas"
   ]
  },
  {
   "cell_type": "code",
   "execution_count": 15,
   "metadata": {},
   "outputs": [
    {
     "data": {
      "text/plain": [
       "((383568, 9), (383535, 9))"
      ]
     },
     "execution_count": 15,
     "metadata": {},
     "output_type": "execute_result"
    }
   ],
   "source": [
    "renfe_df.shape, renfe_df.drop_duplicates().shape"
   ]
  },
  {
   "cell_type": "code",
   "execution_count": 16,
   "metadata": {},
   "outputs": [
    {
     "data": {
      "text/plain": [
       "(383535, 9)"
      ]
     },
     "execution_count": 16,
     "metadata": {},
     "output_type": "execute_result"
    }
   ],
   "source": [
    "renfe_df.drop_duplicates(inplace=True)\n",
    "renfe_df.shape"
   ]
  },
  {
   "cell_type": "markdown",
   "metadata": {},
   "source": [
    "## P7: Valores nulos y análisis de `precio`"
   ]
  },
  {
   "cell_type": "markdown",
   "metadata": {},
   "source": [
    "### P7.1: ¿Que porcentaje de valores nulos hay por cada columna?"
   ]
  },
  {
   "cell_type": "code",
   "execution_count": 17,
   "metadata": {},
   "outputs": [
    {
     "data": {
      "text/plain": [
       "fecha_consulta    0.000000\n",
       "fecha_inicio      0.000000\n",
       "fecha_fin         0.000000\n",
       "ciudad_origen     0.000000\n",
       "ciudad_destino    0.000000\n",
       "tipo_tren         0.000000\n",
       "tipo_tarifa       0.350081\n",
       "clase             0.350081\n",
       "precio            8.031942\n",
       "dtype: float64"
      ]
     },
     "execution_count": 17,
     "metadata": {},
     "output_type": "execute_result"
    }
   ],
   "source": [
    "renfe_df_nan= renfe_df.isnull().sum()\n",
    "renfe_df_total_rows = renfe_df.count()\n",
    "porcentaje= renfe_df_nan / renfe_df_total_rows * 100\n",
    "porcentaje"
   ]
  },
  {
   "cell_type": "markdown",
   "metadata": {},
   "source": [
    "### P7.2: ¿Cual es el mínimo, percentiles importantes (25%, 50%, 75%) y el máximo de `precio`?"
   ]
  },
  {
   "cell_type": "code",
   "execution_count": 18,
   "metadata": {},
   "outputs": [
    {
     "data": {
      "text/plain": [
       "count    355020.000000\n",
       "mean         61.436162\n",
       "std          25.696218\n",
       "min           0.000000\n",
       "25%          41.200000\n",
       "50%          58.150000\n",
       "75%          76.300000\n",
       "max         342.800000\n",
       "Name: precio, dtype: float64"
      ]
     },
     "execution_count": 18,
     "metadata": {},
     "output_type": "execute_result"
    }
   ],
   "source": [
    "renfe_df.precio.describe()\n"
   ]
  },
  {
   "cell_type": "markdown",
   "metadata": {},
   "source": [
    "### P7.3: ¿Hay algo raro en el valor mínimo de `precio`? Quita las filas con ese valor del dataset"
   ]
  },
  {
   "cell_type": "code",
   "execution_count": 19,
   "metadata": {},
   "outputs": [
    {
     "data": {
      "text/html": [
       "<div>\n",
       "<style scoped>\n",
       "    .dataframe tbody tr th:only-of-type {\n",
       "        vertical-align: middle;\n",
       "    }\n",
       "\n",
       "    .dataframe tbody tr th {\n",
       "        vertical-align: top;\n",
       "    }\n",
       "\n",
       "    .dataframe thead th {\n",
       "        text-align: right;\n",
       "    }\n",
       "</style>\n",
       "<table border=\"1\" class=\"dataframe\">\n",
       "  <thead>\n",
       "    <tr style=\"text-align: right;\">\n",
       "      <th></th>\n",
       "      <th>fecha_consulta</th>\n",
       "      <th>fecha_inicio</th>\n",
       "      <th>fecha_fin</th>\n",
       "      <th>ciudad_origen</th>\n",
       "      <th>ciudad_destino</th>\n",
       "      <th>tipo_tren</th>\n",
       "      <th>tipo_tarifa</th>\n",
       "      <th>clase</th>\n",
       "      <th>precio</th>\n",
       "    </tr>\n",
       "  </thead>\n",
       "  <tbody>\n",
       "    <tr>\n",
       "      <th>121961</th>\n",
       "      <td>2019-06-17 09:01:21</td>\n",
       "      <td>2019-08-03 20:00:00</td>\n",
       "      <td>2019-08-03 23:10:00</td>\n",
       "      <td>BARCELONA</td>\n",
       "      <td>MADRID</td>\n",
       "      <td>AVE</td>\n",
       "      <td>4x100</td>\n",
       "      <td>Turista</td>\n",
       "      <td>0.0</td>\n",
       "    </tr>\n",
       "    <tr>\n",
       "      <th>136925</th>\n",
       "      <td>2019-06-13 01:13:29</td>\n",
       "      <td>2019-06-16 12:50:00</td>\n",
       "      <td>2019-06-16 15:45:00</td>\n",
       "      <td>BARCELONA</td>\n",
       "      <td>MADRID</td>\n",
       "      <td>AVE-TGV</td>\n",
       "      <td>Flexible</td>\n",
       "      <td>Preferente</td>\n",
       "      <td>0.0</td>\n",
       "    </tr>\n",
       "  </tbody>\n",
       "</table>\n",
       "</div>"
      ],
      "text/plain": [
       "            fecha_consulta        fecha_inicio           fecha_fin  \\\n",
       "121961 2019-06-17 09:01:21 2019-08-03 20:00:00 2019-08-03 23:10:00   \n",
       "136925 2019-06-13 01:13:29 2019-06-16 12:50:00 2019-06-16 15:45:00   \n",
       "\n",
       "       ciudad_origen ciudad_destino tipo_tren tipo_tarifa       clase  precio  \n",
       "121961     BARCELONA         MADRID       AVE       4x100     Turista     0.0  \n",
       "136925     BARCELONA         MADRID   AVE-TGV    Flexible  Preferente     0.0  "
      ]
     },
     "execution_count": 19,
     "metadata": {},
     "output_type": "execute_result"
    }
   ],
   "source": [
    "renfe_df[renfe_df['precio']==0]"
   ]
  },
  {
   "cell_type": "code",
   "execution_count": 20,
   "metadata": {},
   "outputs": [
    {
     "data": {
      "text/plain": [
       "(383533, 9)"
      ]
     },
     "execution_count": 20,
     "metadata": {},
     "output_type": "execute_result"
    }
   ],
   "source": [
    "renfe_df.drop(renfe_df[renfe_df['precio']==0].index,inplace=True)\n",
    "renfe_df.shape"
   ]
  },
  {
   "cell_type": "code",
   "execution_count": 21,
   "metadata": {},
   "outputs": [
    {
     "data": {
      "text/html": [
       "<div>\n",
       "<style scoped>\n",
       "    .dataframe tbody tr th:only-of-type {\n",
       "        vertical-align: middle;\n",
       "    }\n",
       "\n",
       "    .dataframe tbody tr th {\n",
       "        vertical-align: top;\n",
       "    }\n",
       "\n",
       "    .dataframe thead th {\n",
       "        text-align: right;\n",
       "    }\n",
       "</style>\n",
       "<table border=\"1\" class=\"dataframe\">\n",
       "  <thead>\n",
       "    <tr style=\"text-align: right;\">\n",
       "      <th></th>\n",
       "      <th>fecha_consulta</th>\n",
       "      <th>fecha_inicio</th>\n",
       "      <th>fecha_fin</th>\n",
       "      <th>ciudad_origen</th>\n",
       "      <th>ciudad_destino</th>\n",
       "      <th>tipo_tren</th>\n",
       "      <th>tipo_tarifa</th>\n",
       "      <th>clase</th>\n",
       "      <th>precio</th>\n",
       "    </tr>\n",
       "  </thead>\n",
       "  <tbody>\n",
       "  </tbody>\n",
       "</table>\n",
       "</div>"
      ],
      "text/plain": [
       "Empty DataFrame\n",
       "Columns: [fecha_consulta, fecha_inicio, fecha_fin, ciudad_origen, ciudad_destino, tipo_tren, tipo_tarifa, clase, precio]\n",
       "Index: []"
      ]
     },
     "execution_count": 21,
     "metadata": {},
     "output_type": "execute_result"
    }
   ],
   "source": [
    "renfe_df[renfe_df['precio']==0]"
   ]
  },
  {
   "cell_type": "markdown",
   "metadata": {},
   "source": [
    "### P7.4: Reemplaza los valores nulos en `precio` por la media de esa columna"
   ]
  },
  {
   "cell_type": "code",
   "execution_count": 22,
   "metadata": {},
   "outputs": [
    {
     "data": {
      "text/plain": [
       "False    355018\n",
       "True      28515\n",
       "Name: precio, dtype: int64"
      ]
     },
     "execution_count": 22,
     "metadata": {},
     "output_type": "execute_result"
    }
   ],
   "source": [
    "renfe_df['precio'].isnull().value_counts()"
   ]
  },
  {
   "cell_type": "code",
   "execution_count": 23,
   "metadata": {},
   "outputs": [
    {
     "data": {
      "text/plain": [
       "61.43650778271588"
      ]
     },
     "execution_count": 23,
     "metadata": {},
     "output_type": "execute_result"
    }
   ],
   "source": [
    "renfe_df['precio'].mean()"
   ]
  },
  {
   "cell_type": "code",
   "execution_count": 24,
   "metadata": {},
   "outputs": [],
   "source": [
    "renfe_df.loc[renfe_df['precio'].isna(),'precio'] = renfe_df['precio'].mean()"
   ]
  },
  {
   "cell_type": "code",
   "execution_count": 25,
   "metadata": {},
   "outputs": [
    {
     "data": {
      "text/plain": [
       "False    383533\n",
       "Name: precio, dtype: int64"
      ]
     },
     "execution_count": 25,
     "metadata": {},
     "output_type": "execute_result"
    }
   ],
   "source": [
    "renfe_df['precio'].isna().value_counts()"
   ]
  },
  {
   "cell_type": "markdown",
   "metadata": {},
   "source": [
    "### P7.5: Quita las filas donde `clase` o `tipo_tarifa` sean nulos"
   ]
  },
  {
   "cell_type": "code",
   "execution_count": 26,
   "metadata": {},
   "outputs": [
    {
     "data": {
      "text/plain": [
       "False    382195\n",
       "True       1338\n",
       "Name: clase, dtype: int64"
      ]
     },
     "execution_count": 26,
     "metadata": {},
     "output_type": "execute_result"
    }
   ],
   "source": [
    "#miramos cuantos valores Nan tiene la columna clase\n",
    "renfe_df.clase.isnull().value_counts()"
   ]
  },
  {
   "cell_type": "code",
   "execution_count": 27,
   "metadata": {},
   "outputs": [
    {
     "data": {
      "text/plain": [
       "False    382195\n",
       "True       1338\n",
       "Name: tipo_tarifa, dtype: int64"
      ]
     },
     "execution_count": 27,
     "metadata": {},
     "output_type": "execute_result"
    }
   ],
   "source": [
    "#miramos cuantos valores Nan tiene la columna clase.\n",
    "renfe_df.tipo_tarifa.isnull().value_counts()"
   ]
  },
  {
   "cell_type": "code",
   "execution_count": 28,
   "metadata": {},
   "outputs": [
    {
     "data": {
      "text/plain": [
       "True"
      ]
     },
     "execution_count": 28,
     "metadata": {},
     "output_type": "execute_result"
    }
   ],
   "source": [
    "#chequeamos que las filas donde la clase es Nan sean las mismas que las filas donde tipo_tarifa es nula\n",
    "renfe_df[renfe_df.clase.isnull()].equals(renfe_df[renfe_df.tipo_tarifa.isnull()])"
   ]
  },
  {
   "cell_type": "code",
   "execution_count": 29,
   "metadata": {},
   "outputs": [],
   "source": [
    "#eliminamos las filas donde clase es nan\n",
    "renfe_df = renfe_df.dropna(subset=['clase'])"
   ]
  },
  {
   "cell_type": "code",
   "execution_count": 30,
   "metadata": {},
   "outputs": [
    {
     "data": {
      "text/plain": [
       "(382195, 9)"
      ]
     },
     "execution_count": 30,
     "metadata": {},
     "output_type": "execute_result"
    }
   ],
   "source": [
    "renfe_df.shape"
   ]
  },
  {
   "cell_type": "code",
   "execution_count": 31,
   "metadata": {},
   "outputs": [
    {
     "data": {
      "text/plain": [
       "(False    382195\n",
       " Name: tipo_tarifa, dtype: int64,\n",
       " False    382195\n",
       " Name: clase, dtype: int64)"
      ]
     },
     "execution_count": 31,
     "metadata": {},
     "output_type": "execute_result"
    }
   ],
   "source": [
    "renfe_df.tipo_tarifa.isnull().value_counts(), renfe_df.clase.isnull().value_counts()"
   ]
  },
  {
   "cell_type": "markdown",
   "metadata": {},
   "source": [
    "## P8: Tiempo de viaje"
   ]
  },
  {
   "cell_type": "markdown",
   "metadata": {},
   "source": [
    "### P8.1: Calcula el tiempo de viaje en minutos (fecha_fin - fecha_inicio)"
   ]
  },
  {
   "cell_type": "code",
   "execution_count": 32,
   "metadata": {},
   "outputs": [],
   "source": [
    "renfe_df['tiempo_de_viaje']=renfe_df.fecha_fin-renfe_df.fecha_inicio"
   ]
  },
  {
   "cell_type": "code",
   "execution_count": 33,
   "metadata": {},
   "outputs": [],
   "source": [
    "renfe_df['tiempo_de_viaje']=renfe_df['tiempo_de_viaje'].dt.seconds / 60"
   ]
  },
  {
   "cell_type": "code",
   "execution_count": 34,
   "metadata": {},
   "outputs": [
    {
     "data": {
      "text/html": [
       "<div>\n",
       "<style scoped>\n",
       "    .dataframe tbody tr th:only-of-type {\n",
       "        vertical-align: middle;\n",
       "    }\n",
       "\n",
       "    .dataframe tbody tr th {\n",
       "        vertical-align: top;\n",
       "    }\n",
       "\n",
       "    .dataframe thead th {\n",
       "        text-align: right;\n",
       "    }\n",
       "</style>\n",
       "<table border=\"1\" class=\"dataframe\">\n",
       "  <thead>\n",
       "    <tr style=\"text-align: right;\">\n",
       "      <th></th>\n",
       "      <th>fecha_consulta</th>\n",
       "      <th>fecha_inicio</th>\n",
       "      <th>fecha_fin</th>\n",
       "      <th>ciudad_origen</th>\n",
       "      <th>ciudad_destino</th>\n",
       "      <th>tipo_tren</th>\n",
       "      <th>tipo_tarifa</th>\n",
       "      <th>clase</th>\n",
       "      <th>precio</th>\n",
       "      <th>tiempo_de_viaje</th>\n",
       "    </tr>\n",
       "  </thead>\n",
       "  <tbody>\n",
       "    <tr>\n",
       "      <th>0</th>\n",
       "      <td>2019-05-25 01:43:03</td>\n",
       "      <td>2019-06-28 20:36:00</td>\n",
       "      <td>2019-06-28 23:14:00</td>\n",
       "      <td>SEVILLA</td>\n",
       "      <td>MADRID</td>\n",
       "      <td>ALVIA</td>\n",
       "      <td>Flexible</td>\n",
       "      <td>Turista</td>\n",
       "      <td>67.20</td>\n",
       "      <td>158.0</td>\n",
       "    </tr>\n",
       "    <tr>\n",
       "      <th>1</th>\n",
       "      <td>2019-06-22 13:05:11</td>\n",
       "      <td>2019-07-14 10:00:00</td>\n",
       "      <td>2019-07-14 13:10:00</td>\n",
       "      <td>BARCELONA</td>\n",
       "      <td>MADRID</td>\n",
       "      <td>AVE</td>\n",
       "      <td>Flexible</td>\n",
       "      <td>Turista</td>\n",
       "      <td>107.70</td>\n",
       "      <td>190.0</td>\n",
       "    </tr>\n",
       "    <tr>\n",
       "      <th>2</th>\n",
       "      <td>2019-04-17 06:24:03</td>\n",
       "      <td>2019-05-23 13:40:00</td>\n",
       "      <td>2019-05-23 16:10:00</td>\n",
       "      <td>SEVILLA</td>\n",
       "      <td>MADRID</td>\n",
       "      <td>AVE</td>\n",
       "      <td>Promo</td>\n",
       "      <td>Turista</td>\n",
       "      <td>47.30</td>\n",
       "      <td>150.0</td>\n",
       "    </tr>\n",
       "    <tr>\n",
       "      <th>3</th>\n",
       "      <td>2019-05-10 21:21:59</td>\n",
       "      <td>2019-05-29 14:50:00</td>\n",
       "      <td>2019-05-29 22:30:00</td>\n",
       "      <td>VALENCIA</td>\n",
       "      <td>MADRID</td>\n",
       "      <td>REGIONAL</td>\n",
       "      <td>Adulto ida</td>\n",
       "      <td>Turista</td>\n",
       "      <td>28.35</td>\n",
       "      <td>460.0</td>\n",
       "    </tr>\n",
       "    <tr>\n",
       "      <th>4</th>\n",
       "      <td>2019-05-09 19:43:37</td>\n",
       "      <td>2019-06-26 13:25:00</td>\n",
       "      <td>2019-06-26 16:24:00</td>\n",
       "      <td>MADRID</td>\n",
       "      <td>BARCELONA</td>\n",
       "      <td>AVE-TGV</td>\n",
       "      <td>Promo</td>\n",
       "      <td>Turista</td>\n",
       "      <td>66.75</td>\n",
       "      <td>179.0</td>\n",
       "    </tr>\n",
       "    <tr>\n",
       "      <th>...</th>\n",
       "      <td>...</td>\n",
       "      <td>...</td>\n",
       "      <td>...</td>\n",
       "      <td>...</td>\n",
       "      <td>...</td>\n",
       "      <td>...</td>\n",
       "      <td>...</td>\n",
       "      <td>...</td>\n",
       "      <td>...</td>\n",
       "      <td>...</td>\n",
       "    </tr>\n",
       "    <tr>\n",
       "      <th>383563</th>\n",
       "      <td>2019-05-06 05:11:53</td>\n",
       "      <td>2019-05-10 19:40:00</td>\n",
       "      <td>2019-05-10 21:29:00</td>\n",
       "      <td>MADRID</td>\n",
       "      <td>VALENCIA</td>\n",
       "      <td>AVE</td>\n",
       "      <td>Flexible</td>\n",
       "      <td>Turista</td>\n",
       "      <td>73.10</td>\n",
       "      <td>109.0</td>\n",
       "    </tr>\n",
       "    <tr>\n",
       "      <th>383564</th>\n",
       "      <td>2019-06-19 21:48:56</td>\n",
       "      <td>2019-08-05 20:00:00</td>\n",
       "      <td>2019-08-05 23:10:00</td>\n",
       "      <td>BARCELONA</td>\n",
       "      <td>MADRID</td>\n",
       "      <td>AVE</td>\n",
       "      <td>Promo</td>\n",
       "      <td>Preferente</td>\n",
       "      <td>54.45</td>\n",
       "      <td>190.0</td>\n",
       "    </tr>\n",
       "    <tr>\n",
       "      <th>383565</th>\n",
       "      <td>2019-04-24 23:21:44</td>\n",
       "      <td>2019-04-29 16:15:00</td>\n",
       "      <td>2019-04-29 17:55:00</td>\n",
       "      <td>VALENCIA</td>\n",
       "      <td>MADRID</td>\n",
       "      <td>AVE</td>\n",
       "      <td>Promo</td>\n",
       "      <td>Turista</td>\n",
       "      <td>27.80</td>\n",
       "      <td>100.0</td>\n",
       "    </tr>\n",
       "    <tr>\n",
       "      <th>383566</th>\n",
       "      <td>2019-05-27 21:05:19</td>\n",
       "      <td>2019-07-07 15:00:00</td>\n",
       "      <td>2019-07-07 17:21:00</td>\n",
       "      <td>MADRID</td>\n",
       "      <td>SEVILLA</td>\n",
       "      <td>AVE</td>\n",
       "      <td>Promo</td>\n",
       "      <td>Turista</td>\n",
       "      <td>47.30</td>\n",
       "      <td>141.0</td>\n",
       "    </tr>\n",
       "    <tr>\n",
       "      <th>383567</th>\n",
       "      <td>2019-05-27 15:04:14</td>\n",
       "      <td>2019-06-16 18:35:00</td>\n",
       "      <td>2019-06-16 20:21:00</td>\n",
       "      <td>VALENCIA</td>\n",
       "      <td>MADRID</td>\n",
       "      <td>AVE</td>\n",
       "      <td>Flexible</td>\n",
       "      <td>Turista</td>\n",
       "      <td>73.10</td>\n",
       "      <td>106.0</td>\n",
       "    </tr>\n",
       "  </tbody>\n",
       "</table>\n",
       "<p>382195 rows × 10 columns</p>\n",
       "</div>"
      ],
      "text/plain": [
       "            fecha_consulta        fecha_inicio           fecha_fin  \\\n",
       "0      2019-05-25 01:43:03 2019-06-28 20:36:00 2019-06-28 23:14:00   \n",
       "1      2019-06-22 13:05:11 2019-07-14 10:00:00 2019-07-14 13:10:00   \n",
       "2      2019-04-17 06:24:03 2019-05-23 13:40:00 2019-05-23 16:10:00   \n",
       "3      2019-05-10 21:21:59 2019-05-29 14:50:00 2019-05-29 22:30:00   \n",
       "4      2019-05-09 19:43:37 2019-06-26 13:25:00 2019-06-26 16:24:00   \n",
       "...                    ...                 ...                 ...   \n",
       "383563 2019-05-06 05:11:53 2019-05-10 19:40:00 2019-05-10 21:29:00   \n",
       "383564 2019-06-19 21:48:56 2019-08-05 20:00:00 2019-08-05 23:10:00   \n",
       "383565 2019-04-24 23:21:44 2019-04-29 16:15:00 2019-04-29 17:55:00   \n",
       "383566 2019-05-27 21:05:19 2019-07-07 15:00:00 2019-07-07 17:21:00   \n",
       "383567 2019-05-27 15:04:14 2019-06-16 18:35:00 2019-06-16 20:21:00   \n",
       "\n",
       "       ciudad_origen ciudad_destino tipo_tren tipo_tarifa       clase  precio  \\\n",
       "0            SEVILLA         MADRID     ALVIA    Flexible     Turista   67.20   \n",
       "1          BARCELONA         MADRID       AVE    Flexible     Turista  107.70   \n",
       "2            SEVILLA         MADRID       AVE       Promo     Turista   47.30   \n",
       "3           VALENCIA         MADRID  REGIONAL  Adulto ida     Turista   28.35   \n",
       "4             MADRID      BARCELONA   AVE-TGV       Promo     Turista   66.75   \n",
       "...              ...            ...       ...         ...         ...     ...   \n",
       "383563        MADRID       VALENCIA       AVE    Flexible     Turista   73.10   \n",
       "383564     BARCELONA         MADRID       AVE       Promo  Preferente   54.45   \n",
       "383565      VALENCIA         MADRID       AVE       Promo     Turista   27.80   \n",
       "383566        MADRID        SEVILLA       AVE       Promo     Turista   47.30   \n",
       "383567      VALENCIA         MADRID       AVE    Flexible     Turista   73.10   \n",
       "\n",
       "        tiempo_de_viaje  \n",
       "0                 158.0  \n",
       "1                 190.0  \n",
       "2                 150.0  \n",
       "3                 460.0  \n",
       "4                 179.0  \n",
       "...                 ...  \n",
       "383563            109.0  \n",
       "383564            190.0  \n",
       "383565            100.0  \n",
       "383566            141.0  \n",
       "383567            106.0  \n",
       "\n",
       "[382195 rows x 10 columns]"
      ]
     },
     "execution_count": 34,
     "metadata": {},
     "output_type": "execute_result"
    }
   ],
   "source": [
    "renfe_df"
   ]
  },
  {
   "cell_type": "markdown",
   "metadata": {},
   "source": [
    "### P8.2: Haz un histograma de la variable que acabas de crear (`tiempo_de_viaje`)"
   ]
  },
  {
   "cell_type": "code",
   "execution_count": 120,
   "metadata": {},
   "outputs": [
    {
     "data": {
      "text/plain": [
       "<AxesSubplot:>"
      ]
     },
     "execution_count": 120,
     "metadata": {},
     "output_type": "execute_result"
    },
    {
     "data": {
      "image/png": "[encoded data removed]",
      "text/plain": [
       "<Figure size 640x480 with 1 Axes>"
      ]
     },
     "metadata": {},
     "output_type": "display_data"
    }
   ],
   "source": [
    "renfe_df['tiempo_de_viaje'].hist()\n"
   ]
  },
  {
   "cell_type": "markdown",
   "metadata": {},
   "source": [
    "## P9: Extrae el día, el nombre del día, el mes y la hora de `fecha_inicio`"
   ]
  },
  {
   "cell_type": "code",
   "execution_count": 36,
   "metadata": {},
   "outputs": [],
   "source": [
    "#extrancción del día:\n",
    "renfe_df['dia_fecha_inicio']=renfe_df['fecha_inicio'].dt.day"
   ]
  },
  {
   "cell_type": "code",
   "execution_count": 37,
   "metadata": {},
   "outputs": [],
   "source": [
    "#extrancción del nombre del día:\n",
    "renfe_df['dia_semana_fecha_inicio']= renfe_df['fecha_inicio'].dt.day_name()"
   ]
  },
  {
   "cell_type": "code",
   "execution_count": 38,
   "metadata": {},
   "outputs": [],
   "source": [
    "#extrancción del mes:\n",
    "renfe_df['mes_fecha_inicio'] = renfe_df['fecha_inicio'].dt.month"
   ]
  },
  {
   "cell_type": "code",
   "execution_count": 39,
   "metadata": {},
   "outputs": [],
   "source": [
    "#extrancción de la hora:\n",
    "renfe_df['hora_fecha_inicio'] = renfe_df['fecha_inicio'].dt.hour"
   ]
  },
  {
   "cell_type": "code",
   "execution_count": 40,
   "metadata": {},
   "outputs": [
    {
     "data": {
      "text/html": [
       "<div>\n",
       "<style scoped>\n",
       "    .dataframe tbody tr th:only-of-type {\n",
       "        vertical-align: middle;\n",
       "    }\n",
       "\n",
       "    .dataframe tbody tr th {\n",
       "        vertical-align: top;\n",
       "    }\n",
       "\n",
       "    .dataframe thead th {\n",
       "        text-align: right;\n",
       "    }\n",
       "</style>\n",
       "<table border=\"1\" class=\"dataframe\">\n",
       "  <thead>\n",
       "    <tr style=\"text-align: right;\">\n",
       "      <th></th>\n",
       "      <th>fecha_consulta</th>\n",
       "      <th>fecha_inicio</th>\n",
       "      <th>fecha_fin</th>\n",
       "      <th>ciudad_origen</th>\n",
       "      <th>ciudad_destino</th>\n",
       "      <th>tipo_tren</th>\n",
       "      <th>tipo_tarifa</th>\n",
       "      <th>clase</th>\n",
       "      <th>precio</th>\n",
       "      <th>tiempo_de_viaje</th>\n",
       "      <th>dia_fecha_inicio</th>\n",
       "      <th>dia_semana_fecha_inicio</th>\n",
       "      <th>mes_fecha_inicio</th>\n",
       "      <th>hora_fecha_inicio</th>\n",
       "    </tr>\n",
       "  </thead>\n",
       "  <tbody>\n",
       "    <tr>\n",
       "      <th>0</th>\n",
       "      <td>2019-05-25 01:43:03</td>\n",
       "      <td>2019-06-28 20:36:00</td>\n",
       "      <td>2019-06-28 23:14:00</td>\n",
       "      <td>SEVILLA</td>\n",
       "      <td>MADRID</td>\n",
       "      <td>ALVIA</td>\n",
       "      <td>Flexible</td>\n",
       "      <td>Turista</td>\n",
       "      <td>67.20</td>\n",
       "      <td>158.0</td>\n",
       "      <td>28</td>\n",
       "      <td>Friday</td>\n",
       "      <td>6</td>\n",
       "      <td>20</td>\n",
       "    </tr>\n",
       "    <tr>\n",
       "      <th>1</th>\n",
       "      <td>2019-06-22 13:05:11</td>\n",
       "      <td>2019-07-14 10:00:00</td>\n",
       "      <td>2019-07-14 13:10:00</td>\n",
       "      <td>BARCELONA</td>\n",
       "      <td>MADRID</td>\n",
       "      <td>AVE</td>\n",
       "      <td>Flexible</td>\n",
       "      <td>Turista</td>\n",
       "      <td>107.70</td>\n",
       "      <td>190.0</td>\n",
       "      <td>14</td>\n",
       "      <td>Sunday</td>\n",
       "      <td>7</td>\n",
       "      <td>10</td>\n",
       "    </tr>\n",
       "    <tr>\n",
       "      <th>2</th>\n",
       "      <td>2019-04-17 06:24:03</td>\n",
       "      <td>2019-05-23 13:40:00</td>\n",
       "      <td>2019-05-23 16:10:00</td>\n",
       "      <td>SEVILLA</td>\n",
       "      <td>MADRID</td>\n",
       "      <td>AVE</td>\n",
       "      <td>Promo</td>\n",
       "      <td>Turista</td>\n",
       "      <td>47.30</td>\n",
       "      <td>150.0</td>\n",
       "      <td>23</td>\n",
       "      <td>Thursday</td>\n",
       "      <td>5</td>\n",
       "      <td>13</td>\n",
       "    </tr>\n",
       "    <tr>\n",
       "      <th>3</th>\n",
       "      <td>2019-05-10 21:21:59</td>\n",
       "      <td>2019-05-29 14:50:00</td>\n",
       "      <td>2019-05-29 22:30:00</td>\n",
       "      <td>VALENCIA</td>\n",
       "      <td>MADRID</td>\n",
       "      <td>REGIONAL</td>\n",
       "      <td>Adulto ida</td>\n",
       "      <td>Turista</td>\n",
       "      <td>28.35</td>\n",
       "      <td>460.0</td>\n",
       "      <td>29</td>\n",
       "      <td>Wednesday</td>\n",
       "      <td>5</td>\n",
       "      <td>14</td>\n",
       "    </tr>\n",
       "    <tr>\n",
       "      <th>4</th>\n",
       "      <td>2019-05-09 19:43:37</td>\n",
       "      <td>2019-06-26 13:25:00</td>\n",
       "      <td>2019-06-26 16:24:00</td>\n",
       "      <td>MADRID</td>\n",
       "      <td>BARCELONA</td>\n",
       "      <td>AVE-TGV</td>\n",
       "      <td>Promo</td>\n",
       "      <td>Turista</td>\n",
       "      <td>66.75</td>\n",
       "      <td>179.0</td>\n",
       "      <td>26</td>\n",
       "      <td>Wednesday</td>\n",
       "      <td>6</td>\n",
       "      <td>13</td>\n",
       "    </tr>\n",
       "  </tbody>\n",
       "</table>\n",
       "</div>"
      ],
      "text/plain": [
       "       fecha_consulta        fecha_inicio           fecha_fin ciudad_origen  \\\n",
       "0 2019-05-25 01:43:03 2019-06-28 20:36:00 2019-06-28 23:14:00       SEVILLA   \n",
       "1 2019-06-22 13:05:11 2019-07-14 10:00:00 2019-07-14 13:10:00     BARCELONA   \n",
       "2 2019-04-17 06:24:03 2019-05-23 13:40:00 2019-05-23 16:10:00       SEVILLA   \n",
       "3 2019-05-10 21:21:59 2019-05-29 14:50:00 2019-05-29 22:30:00      VALENCIA   \n",
       "4 2019-05-09 19:43:37 2019-06-26 13:25:00 2019-06-26 16:24:00        MADRID   \n",
       "\n",
       "  ciudad_destino tipo_tren tipo_tarifa    clase  precio  tiempo_de_viaje  \\\n",
       "0         MADRID     ALVIA    Flexible  Turista   67.20            158.0   \n",
       "1         MADRID       AVE    Flexible  Turista  107.70            190.0   \n",
       "2         MADRID       AVE       Promo  Turista   47.30            150.0   \n",
       "3         MADRID  REGIONAL  Adulto ida  Turista   28.35            460.0   \n",
       "4      BARCELONA   AVE-TGV       Promo  Turista   66.75            179.0   \n",
       "\n",
       "   dia_fecha_inicio dia_semana_fecha_inicio  mes_fecha_inicio  \\\n",
       "0                28                  Friday                 6   \n",
       "1                14                  Sunday                 7   \n",
       "2                23                Thursday                 5   \n",
       "3                29               Wednesday                 5   \n",
       "4                26               Wednesday                 6   \n",
       "\n",
       "   hora_fecha_inicio  \n",
       "0                 20  \n",
       "1                 10  \n",
       "2                 13  \n",
       "3                 14  \n",
       "4                 13  "
      ]
     },
     "execution_count": 40,
     "metadata": {},
     "output_type": "execute_result"
    }
   ],
   "source": [
    "renfe_df.head()"
   ]
  },
  {
   "cell_type": "markdown",
   "metadata": {},
   "source": [
    "## P10: Quita las columnas `fecha_consulta`, `fecha_inicio` y `fecha_fin` del dataset"
   ]
  },
  {
   "cell_type": "code",
   "execution_count": 41,
   "metadata": {},
   "outputs": [],
   "source": [
    "renfe_df.drop(['fecha_consulta','fecha_inicio','fecha_fin'],axis=1,inplace=True)"
   ]
  },
  {
   "cell_type": "code",
   "execution_count": 42,
   "metadata": {},
   "outputs": [
    {
     "data": {
      "text/plain": [
       "Index(['ciudad_origen', 'ciudad_destino', 'tipo_tren', 'tipo_tarifa', 'clase',\n",
       "       'precio', 'tiempo_de_viaje', 'dia_fecha_inicio',\n",
       "       'dia_semana_fecha_inicio', 'mes_fecha_inicio', 'hora_fecha_inicio'],\n",
       "      dtype='object')"
      ]
     },
     "execution_count": 42,
     "metadata": {},
     "output_type": "execute_result"
    }
   ],
   "source": [
    "renfe_df.columns"
   ]
  },
  {
   "cell_type": "markdown",
   "metadata": {},
   "source": [
    "## P11: Lee el dataset `coordenadas_ciudades.csv` y únelo con al dataset que has procesado hasta ahora (utiliza `ciudad_destino` para el `join`)"
   ]
  },
  {
   "cell_type": "code",
   "execution_count": 43,
   "metadata": {},
   "outputs": [
    {
     "data": {
      "text/html": [
       "<div>\n",
       "<style scoped>\n",
       "    .dataframe tbody tr th:only-of-type {\n",
       "        vertical-align: middle;\n",
       "    }\n",
       "\n",
       "    .dataframe tbody tr th {\n",
       "        vertical-align: top;\n",
       "    }\n",
       "\n",
       "    .dataframe thead th {\n",
       "        text-align: right;\n",
       "    }\n",
       "</style>\n",
       "<table border=\"1\" class=\"dataframe\">\n",
       "  <thead>\n",
       "    <tr style=\"text-align: right;\">\n",
       "      <th></th>\n",
       "      <th>ciudad_origen</th>\n",
       "      <th>ciudad_destino</th>\n",
       "      <th>tipo_tren</th>\n",
       "      <th>tipo_tarifa</th>\n",
       "      <th>clase</th>\n",
       "      <th>precio</th>\n",
       "      <th>tiempo_de_viaje</th>\n",
       "      <th>dia_fecha_inicio</th>\n",
       "      <th>dia_semana_fecha_inicio</th>\n",
       "      <th>mes_fecha_inicio</th>\n",
       "      <th>hora_fecha_inicio</th>\n",
       "      <th>ciudad</th>\n",
       "      <th>latitud</th>\n",
       "      <th>longitud</th>\n",
       "    </tr>\n",
       "  </thead>\n",
       "  <tbody>\n",
       "    <tr>\n",
       "      <th>0</th>\n",
       "      <td>SEVILLA</td>\n",
       "      <td>MADRID</td>\n",
       "      <td>ALVIA</td>\n",
       "      <td>Flexible</td>\n",
       "      <td>Turista</td>\n",
       "      <td>67.20</td>\n",
       "      <td>158.0</td>\n",
       "      <td>28</td>\n",
       "      <td>Friday</td>\n",
       "      <td>6</td>\n",
       "      <td>20</td>\n",
       "      <td>MADRID</td>\n",
       "      <td>40.416705</td>\n",
       "      <td>-3.703582</td>\n",
       "    </tr>\n",
       "    <tr>\n",
       "      <th>1</th>\n",
       "      <td>BARCELONA</td>\n",
       "      <td>MADRID</td>\n",
       "      <td>AVE</td>\n",
       "      <td>Flexible</td>\n",
       "      <td>Turista</td>\n",
       "      <td>107.70</td>\n",
       "      <td>190.0</td>\n",
       "      <td>14</td>\n",
       "      <td>Sunday</td>\n",
       "      <td>7</td>\n",
       "      <td>10</td>\n",
       "      <td>MADRID</td>\n",
       "      <td>40.416705</td>\n",
       "      <td>-3.703582</td>\n",
       "    </tr>\n",
       "    <tr>\n",
       "      <th>2</th>\n",
       "      <td>SEVILLA</td>\n",
       "      <td>MADRID</td>\n",
       "      <td>AVE</td>\n",
       "      <td>Promo</td>\n",
       "      <td>Turista</td>\n",
       "      <td>47.30</td>\n",
       "      <td>150.0</td>\n",
       "      <td>23</td>\n",
       "      <td>Thursday</td>\n",
       "      <td>5</td>\n",
       "      <td>13</td>\n",
       "      <td>MADRID</td>\n",
       "      <td>40.416705</td>\n",
       "      <td>-3.703582</td>\n",
       "    </tr>\n",
       "    <tr>\n",
       "      <th>3</th>\n",
       "      <td>VALENCIA</td>\n",
       "      <td>MADRID</td>\n",
       "      <td>REGIONAL</td>\n",
       "      <td>Adulto ida</td>\n",
       "      <td>Turista</td>\n",
       "      <td>28.35</td>\n",
       "      <td>460.0</td>\n",
       "      <td>29</td>\n",
       "      <td>Wednesday</td>\n",
       "      <td>5</td>\n",
       "      <td>14</td>\n",
       "      <td>MADRID</td>\n",
       "      <td>40.416705</td>\n",
       "      <td>-3.703582</td>\n",
       "    </tr>\n",
       "    <tr>\n",
       "      <th>4</th>\n",
       "      <td>SEVILLA</td>\n",
       "      <td>MADRID</td>\n",
       "      <td>AVE</td>\n",
       "      <td>Promo</td>\n",
       "      <td>Turista</td>\n",
       "      <td>60.30</td>\n",
       "      <td>150.0</td>\n",
       "      <td>21</td>\n",
       "      <td>Sunday</td>\n",
       "      <td>7</td>\n",
       "      <td>8</td>\n",
       "      <td>MADRID</td>\n",
       "      <td>40.416705</td>\n",
       "      <td>-3.703582</td>\n",
       "    </tr>\n",
       "  </tbody>\n",
       "</table>\n",
       "</div>"
      ],
      "text/plain": [
       "  ciudad_origen ciudad_destino tipo_tren tipo_tarifa    clase  precio  \\\n",
       "0       SEVILLA         MADRID     ALVIA    Flexible  Turista   67.20   \n",
       "1     BARCELONA         MADRID       AVE    Flexible  Turista  107.70   \n",
       "2       SEVILLA         MADRID       AVE       Promo  Turista   47.30   \n",
       "3      VALENCIA         MADRID  REGIONAL  Adulto ida  Turista   28.35   \n",
       "4       SEVILLA         MADRID       AVE       Promo  Turista   60.30   \n",
       "\n",
       "   tiempo_de_viaje  dia_fecha_inicio dia_semana_fecha_inicio  \\\n",
       "0            158.0                28                  Friday   \n",
       "1            190.0                14                  Sunday   \n",
       "2            150.0                23                Thursday   \n",
       "3            460.0                29               Wednesday   \n",
       "4            150.0                21                  Sunday   \n",
       "\n",
       "   mes_fecha_inicio  hora_fecha_inicio  ciudad    latitud  longitud  \n",
       "0                 6                 20  MADRID  40.416705 -3.703582  \n",
       "1                 7                 10  MADRID  40.416705 -3.703582  \n",
       "2                 5                 13  MADRID  40.416705 -3.703582  \n",
       "3                 5                 14  MADRID  40.416705 -3.703582  \n",
       "4                 7                  8  MADRID  40.416705 -3.703582  "
      ]
     },
     "execution_count": 43,
     "metadata": {},
     "output_type": "execute_result"
    }
   ],
   "source": [
    "coordenadas_ciudades = pd.read_csv('coordenadas_ciudades.csv')\n",
    "renfe_df_coordenadas = renfe_df.merge(coordenadas_ciudades,left_on='ciudad_destino', right_on='ciudad')\n",
    "renfe_df_coordenadas.head()\n"
   ]
  },
  {
   "cell_type": "markdown",
   "metadata": {},
   "source": [
    "## P12: Gráfica en un mapa el precio medio por ciudad de destino"
   ]
  },
  {
   "cell_type": "code",
   "execution_count": 44,
   "metadata": {},
   "outputs": [],
   "source": [
    "renfe_preciomedio_ciudades = renfe_df_coordenadas.groupby('ciudad_destino').mean('precio')[['precio','latitud','longitud']]\n",
    "renfe_preciomedio_ciudades.reset_index(level=None, drop=False, inplace=True, col_level=0, col_fill='')"
   ]
  },
  {
   "cell_type": "code",
   "execution_count": 45,
   "metadata": {},
   "outputs": [
    {
     "data": {
      "text/html": [
       "<div>\n",
       "<style scoped>\n",
       "    .dataframe tbody tr th:only-of-type {\n",
       "        vertical-align: middle;\n",
       "    }\n",
       "\n",
       "    .dataframe tbody tr th {\n",
       "        vertical-align: top;\n",
       "    }\n",
       "\n",
       "    .dataframe thead th {\n",
       "        text-align: right;\n",
       "    }\n",
       "</style>\n",
       "<table border=\"1\" class=\"dataframe\">\n",
       "  <thead>\n",
       "    <tr style=\"text-align: right;\">\n",
       "      <th></th>\n",
       "      <th>ciudad_destino</th>\n",
       "      <th>precio</th>\n",
       "      <th>latitud</th>\n",
       "      <th>longitud</th>\n",
       "    </tr>\n",
       "  </thead>\n",
       "  <tbody>\n",
       "    <tr>\n",
       "      <th>0</th>\n",
       "      <td>BARCELONA</td>\n",
       "      <td>85.360833</td>\n",
       "      <td>41.382894</td>\n",
       "      <td>2.177432</td>\n",
       "    </tr>\n",
       "    <tr>\n",
       "      <th>1</th>\n",
       "      <td>MADRID</td>\n",
       "      <td>60.700061</td>\n",
       "      <td>40.416705</td>\n",
       "      <td>-3.703582</td>\n",
       "    </tr>\n",
       "    <tr>\n",
       "      <th>2</th>\n",
       "      <td>PONFERRADA</td>\n",
       "      <td>45.650328</td>\n",
       "      <td>42.545412</td>\n",
       "      <td>-6.593872</td>\n",
       "    </tr>\n",
       "    <tr>\n",
       "      <th>3</th>\n",
       "      <td>SEVILLA</td>\n",
       "      <td>58.818389</td>\n",
       "      <td>37.388630</td>\n",
       "      <td>-5.995340</td>\n",
       "    </tr>\n",
       "    <tr>\n",
       "      <th>4</th>\n",
       "      <td>VALENCIA</td>\n",
       "      <td>42.637584</td>\n",
       "      <td>39.469901</td>\n",
       "      <td>-0.375951</td>\n",
       "    </tr>\n",
       "  </tbody>\n",
       "</table>\n",
       "</div>"
      ],
      "text/plain": [
       "  ciudad_destino     precio    latitud  longitud\n",
       "0      BARCELONA  85.360833  41.382894  2.177432\n",
       "1         MADRID  60.700061  40.416705 -3.703582\n",
       "2     PONFERRADA  45.650328  42.545412 -6.593872\n",
       "3        SEVILLA  58.818389  37.388630 -5.995340\n",
       "4       VALENCIA  42.637584  39.469901 -0.375951"
      ]
     },
     "execution_count": 45,
     "metadata": {},
     "output_type": "execute_result"
    }
   ],
   "source": [
    "renfe_preciomedio_ciudades"
   ]
  },
  {
   "cell_type": "code",
   "execution_count": 46,
   "metadata": {},
   "outputs": [
    {
     "name": "stdout",
     "output_type": "stream",
     "text": [
      "Requirement already satisfied: folium in c:\\users\\mikel\\anaconda3\\envs\\nuclio\\lib\\site-packages (0.14.0)\n",
      "Requirement already satisfied: branca>=0.6.0 in c:\\users\\mikel\\anaconda3\\envs\\nuclio\\lib\\site-packages (from folium) (0.6.0)\n",
      "Requirement already satisfied: requests in c:\\users\\mikel\\anaconda3\\envs\\nuclio\\lib\\site-packages (from folium) (2.28.1)\n",
      "Requirement already satisfied: numpy in c:\\users\\mikel\\anaconda3\\envs\\nuclio\\lib\\site-packages (from folium) (1.21.5)\n",
      "Requirement already satisfied: jinja2>=2.9 in c:\\users\\mikel\\anaconda3\\envs\\nuclio\\lib\\site-packages (from folium) (2.11.3)\n",
      "Requirement already satisfied: MarkupSafe>=0.23 in c:\\users\\mikel\\anaconda3\\envs\\nuclio\\lib\\site-packages (from jinja2>=2.9->folium) (2.0.1)\n",
      "Requirement already satisfied: charset-normalizer<3,>=2 in c:\\users\\mikel\\anaconda3\\envs\\nuclio\\lib\\site-packages (from requests->folium) (2.0.4)\n",
      "Requirement already satisfied: certifi>=2017.4.17 in c:\\users\\mikel\\anaconda3\\envs\\nuclio\\lib\\site-packages (from requests->folium) (2022.9.14)\n",
      "Requirement already satisfied: urllib3<1.27,>=1.21.1 in c:\\users\\mikel\\anaconda3\\envs\\nuclio\\lib\\site-packages (from requests->folium) (1.26.11)\n",
      "Requirement already satisfied: idna<4,>=2.5 in c:\\users\\mikel\\anaconda3\\envs\\nuclio\\lib\\site-packages (from requests->folium) (3.3)\n",
      "Note: you may need to restart the kernel to use updated packages.\n"
     ]
    }
   ],
   "source": [
    "pip install folium"
   ]
  },
  {
   "cell_type": "code",
   "execution_count": 47,
   "metadata": {},
   "outputs": [
    {
     "data": {
      "text/html": [
       "<div style=\"width:100%;\"><div style=\"position:relative;width:100%;height:0;padding-bottom:60%;\"><span style=\"color:#565656\">Make this Notebook Trusted to load map: File -> Trust Notebook</span><iframe srcdoc=\"&lt;!DOCTYPE html&gt;\n",
       "&lt;html&gt;\n",
       "&lt;head&gt;\n",
       "    \n",
       "    &lt;meta http-equiv=&quot;content-type&quot; content=&quot;text/html; charset=UTF-8&quot; /&gt;\n",
       "    \n",
       "        &lt;script&gt;\n",
       "            L_NO_TOUCH = false;\n",
       "            L_DISABLE_3D = false;\n",
       "        &lt;/script&gt;\n",
       "    \n",
       "    &lt;style&gt;html, body {width: 100%;height: 100%;margin: 0;padding: 0;}&lt;/style&gt;\n",
       "    &lt;style&gt;#map {position:absolute;top:0;bottom:0;right:0;left:0;}&lt;/style&gt;\n",
       "    &lt;script src=&quot;https://cdn.jsdelivr.net/npm/leaflet@1.9.3/dist/leaflet.js&quot;&gt;&lt;/script&gt;\n",
       "    &lt;script src=&quot;https://code.jquery.com/jquery-1.12.4.min.js&quot;&gt;&lt;/script&gt;\n",
       "    &lt;script src=&quot;https://cdn.jsdelivr.net/npm/bootstrap@5.2.2/dist/js/bootstrap.bundle.min.js&quot;&gt;&lt;/script&gt;\n",
       "    &lt;script src=&quot;https://cdnjs.cloudflare.com/ajax/libs/Leaflet.awesome-markers/2.0.2/leaflet.awesome-markers.js&quot;&gt;&lt;/script&gt;\n",
       "    &lt;link rel=&quot;stylesheet&quot; href=&quot;https://cdn.jsdelivr.net/npm/leaflet@1.9.3/dist/leaflet.css&quot;/&gt;\n",
       "    &lt;link rel=&quot;stylesheet&quot; href=&quot;https://cdn.jsdelivr.net/npm/bootstrap@5.2.2/dist/css/bootstrap.min.css&quot;/&gt;\n",
       "    &lt;link rel=&quot;stylesheet&quot; href=&quot;https://netdna.bootstrapcdn.com/bootstrap/3.0.0/css/bootstrap.min.css&quot;/&gt;\n",
       "    &lt;link rel=&quot;stylesheet&quot; href=&quot;https://cdn.jsdelivr.net/npm/@fortawesome/fontawesome-free@6.2.0/css/all.min.css&quot;/&gt;\n",
       "    &lt;link rel=&quot;stylesheet&quot; href=&quot;https://cdnjs.cloudflare.com/ajax/libs/Leaflet.awesome-markers/2.0.2/leaflet.awesome-markers.css&quot;/&gt;\n",
       "    &lt;link rel=&quot;stylesheet&quot; href=&quot;https://cdn.jsdelivr.net/gh/python-visualization/folium/folium/templates/leaflet.awesome.rotate.min.css&quot;/&gt;\n",
       "    \n",
       "            &lt;meta name=&quot;viewport&quot; content=&quot;width=device-width,\n",
       "                initial-scale=1.0, maximum-scale=1.0, user-scalable=no&quot; /&gt;\n",
       "            &lt;style&gt;\n",
       "                #map_b1fa36af80fc75f9f72a65d1ae85496a {\n",
       "                    position: relative;\n",
       "                    width: 100.0%;\n",
       "                    height: 100.0%;\n",
       "                    left: 0.0%;\n",
       "                    top: 0.0%;\n",
       "                }\n",
       "                .leaflet-container { font-size: 1rem; }\n",
       "            &lt;/style&gt;\n",
       "        \n",
       "&lt;/head&gt;\n",
       "&lt;body&gt;\n",
       "    \n",
       "    \n",
       "            &lt;div class=&quot;folium-map&quot; id=&quot;map_b1fa36af80fc75f9f72a65d1ae85496a&quot; &gt;&lt;/div&gt;\n",
       "        \n",
       "&lt;/body&gt;\n",
       "&lt;script&gt;\n",
       "    \n",
       "    \n",
       "            var map_b1fa36af80fc75f9f72a65d1ae85496a = L.map(\n",
       "                &quot;map_b1fa36af80fc75f9f72a65d1ae85496a&quot;,\n",
       "                {\n",
       "                    center: [40.24070854, -2.89826276],\n",
       "                    crs: L.CRS.EPSG3857,\n",
       "                    zoom: 6,\n",
       "                    zoomControl: true,\n",
       "                    preferCanvas: false,\n",
       "                }\n",
       "            );\n",
       "\n",
       "            \n",
       "\n",
       "        \n",
       "    \n",
       "            var tile_layer_1fb25b639c2aeb2041ea17677c281598 = L.tileLayer(\n",
       "                &quot;https://cartodb-basemaps-{s}.global.ssl.fastly.net/light_all/{z}/{x}/{y}.png&quot;,\n",
       "                {&quot;attribution&quot;: &quot;\\u0026copy; \\u003ca target=\\&quot;_blank\\&quot; href=\\&quot;http://www.openstreetmap.org/copyright\\&quot;\\u003eOpenStreetMap\\u003c/a\\u003e contributors \\u0026copy; \\u003ca target=\\&quot;_blank\\&quot; href=\\&quot;http://cartodb.com/attributions\\&quot;\\u003eCartoDB\\u003c/a\\u003e, CartoDB \\u003ca target=\\&quot;_blank\\&quot; href =\\&quot;http://cartodb.com/attributions\\&quot;\\u003eattributions\\u003c/a\\u003e&quot;, &quot;detectRetina&quot;: false, &quot;maxNativeZoom&quot;: 18, &quot;maxZoom&quot;: 18, &quot;minZoom&quot;: 0, &quot;noWrap&quot;: false, &quot;opacity&quot;: 1, &quot;subdomains&quot;: &quot;abc&quot;, &quot;tms&quot;: false}\n",
       "            ).addTo(map_b1fa36af80fc75f9f72a65d1ae85496a);\n",
       "        \n",
       "    \n",
       "            var circle_0cf4468112eccbc5c71f99ba436ebd03 = L.circle(\n",
       "                [41.3828939, 2.1774322],\n",
       "                {&quot;bubblingMouseEvents&quot;: true, &quot;color&quot;: &quot;blue&quot;, &quot;dashArray&quot;: null, &quot;dashOffset&quot;: null, &quot;fill&quot;: true, &quot;fillColor&quot;: &quot;blue&quot;, &quot;fillOpacity&quot;: 0.5, &quot;fillRule&quot;: &quot;evenodd&quot;, &quot;lineCap&quot;: &quot;round&quot;, &quot;lineJoin&quot;: &quot;round&quot;, &quot;opacity&quot;: 1.0, &quot;radius&quot;: 42680.416629608015, &quot;stroke&quot;: true, &quot;weight&quot;: 3}\n",
       "            ).addTo(map_b1fa36af80fc75f9f72a65d1ae85496a);\n",
       "        \n",
       "    \n",
       "            circle_0cf4468112eccbc5c71f99ba436ebd03.bindTooltip(\n",
       "                `&lt;div&gt;\n",
       "                     \n",
       "        &lt;ul&gt;\n",
       "            &lt;li&gt;Ciudad: BARCELONA&lt;/li&gt;\n",
       "            &lt;li&gt;Precio Medio: 85.36083325921602&lt;/li&gt;\n",
       "        &lt;ul&gt;\n",
       "        \n",
       "                 &lt;/div&gt;`,\n",
       "                {&quot;sticky&quot;: true}\n",
       "            );\n",
       "        \n",
       "    \n",
       "            var circle_b8f2a588774b9423f774b4a442019515 = L.circle(\n",
       "                [40.4167047, -3.7035825],\n",
       "                {&quot;bubblingMouseEvents&quot;: true, &quot;color&quot;: &quot;blue&quot;, &quot;dashArray&quot;: null, &quot;dashOffset&quot;: null, &quot;fill&quot;: true, &quot;fillColor&quot;: &quot;blue&quot;, &quot;fillOpacity&quot;: 0.5, &quot;fillRule&quot;: &quot;evenodd&quot;, &quot;lineCap&quot;: &quot;round&quot;, &quot;lineJoin&quot;: &quot;round&quot;, &quot;opacity&quot;: 1.0, &quot;radius&quot;: 30350.030391269287, &quot;stroke&quot;: true, &quot;weight&quot;: 3}\n",
       "            ).addTo(map_b1fa36af80fc75f9f72a65d1ae85496a);\n",
       "        \n",
       "    \n",
       "            circle_b8f2a588774b9423f774b4a442019515.bindTooltip(\n",
       "                `&lt;div&gt;\n",
       "                     \n",
       "        &lt;ul&gt;\n",
       "            &lt;li&gt;Ciudad: MADRID&lt;/li&gt;\n",
       "            &lt;li&gt;Precio Medio: 60.70006078253857&lt;/li&gt;\n",
       "        &lt;ul&gt;\n",
       "        \n",
       "                 &lt;/div&gt;`,\n",
       "                {&quot;sticky&quot;: true}\n",
       "            );\n",
       "        \n",
       "    \n",
       "            var circle_b6d389c428077c873bb9ceb03055f8d6 = L.circle(\n",
       "                [42.5454124, -6.5938719],\n",
       "                {&quot;bubblingMouseEvents&quot;: true, &quot;color&quot;: &quot;blue&quot;, &quot;dashArray&quot;: null, &quot;dashOffset&quot;: null, &quot;fill&quot;: true, &quot;fillColor&quot;: &quot;blue&quot;, &quot;fillOpacity&quot;: 0.5, &quot;fillRule&quot;: &quot;evenodd&quot;, &quot;lineCap&quot;: &quot;round&quot;, &quot;lineJoin&quot;: &quot;round&quot;, &quot;opacity&quot;: 1.0, &quot;radius&quot;: 22825.163921127125, &quot;stroke&quot;: true, &quot;weight&quot;: 3}\n",
       "            ).addTo(map_b1fa36af80fc75f9f72a65d1ae85496a);\n",
       "        \n",
       "    \n",
       "            circle_b6d389c428077c873bb9ceb03055f8d6.bindTooltip(\n",
       "                `&lt;div&gt;\n",
       "                     \n",
       "        &lt;ul&gt;\n",
       "            &lt;li&gt;Ciudad: PONFERRADA&lt;/li&gt;\n",
       "            &lt;li&gt;Precio Medio: 45.65032784225425&lt;/li&gt;\n",
       "        &lt;ul&gt;\n",
       "        \n",
       "                 &lt;/div&gt;`,\n",
       "                {&quot;sticky&quot;: true}\n",
       "            );\n",
       "        \n",
       "    \n",
       "            var circle_56da25f6026868a122e298b3de3ace8a = L.circle(\n",
       "                [37.3886303, -5.9953403],\n",
       "                {&quot;bubblingMouseEvents&quot;: true, &quot;color&quot;: &quot;blue&quot;, &quot;dashArray&quot;: null, &quot;dashOffset&quot;: null, &quot;fill&quot;: true, &quot;fillColor&quot;: &quot;blue&quot;, &quot;fillOpacity&quot;: 0.5, &quot;fillRule&quot;: &quot;evenodd&quot;, &quot;lineCap&quot;: &quot;round&quot;, &quot;lineJoin&quot;: &quot;round&quot;, &quot;opacity&quot;: 1.0, &quot;radius&quot;: 29409.19451854332, &quot;stroke&quot;: true, &quot;weight&quot;: 3}\n",
       "            ).addTo(map_b1fa36af80fc75f9f72a65d1ae85496a);\n",
       "        \n",
       "    \n",
       "            circle_56da25f6026868a122e298b3de3ace8a.bindTooltip(\n",
       "                `&lt;div&gt;\n",
       "                     \n",
       "        &lt;ul&gt;\n",
       "            &lt;li&gt;Ciudad: SEVILLA&lt;/li&gt;\n",
       "            &lt;li&gt;Precio Medio: 58.81838903708664&lt;/li&gt;\n",
       "        &lt;ul&gt;\n",
       "        \n",
       "                 &lt;/div&gt;`,\n",
       "                {&quot;sticky&quot;: true}\n",
       "            );\n",
       "        \n",
       "    \n",
       "            var circle_385c6398999a01542ad39b2572269a46 = L.circle(\n",
       "                [39.4699014, -0.3759513],\n",
       "                {&quot;bubblingMouseEvents&quot;: true, &quot;color&quot;: &quot;blue&quot;, &quot;dashArray&quot;: null, &quot;dashOffset&quot;: null, &quot;fill&quot;: true, &quot;fillColor&quot;: &quot;blue&quot;, &quot;fillOpacity&quot;: 0.5, &quot;fillRule&quot;: &quot;evenodd&quot;, &quot;lineCap&quot;: &quot;round&quot;, &quot;lineJoin&quot;: &quot;round&quot;, &quot;opacity&quot;: 1.0, &quot;radius&quot;: 21318.79178297969, &quot;stroke&quot;: true, &quot;weight&quot;: 3}\n",
       "            ).addTo(map_b1fa36af80fc75f9f72a65d1ae85496a);\n",
       "        \n",
       "    \n",
       "            circle_385c6398999a01542ad39b2572269a46.bindTooltip(\n",
       "                `&lt;div&gt;\n",
       "                     \n",
       "        &lt;ul&gt;\n",
       "            &lt;li&gt;Ciudad: VALENCIA&lt;/li&gt;\n",
       "            &lt;li&gt;Precio Medio: 42.63758356595938&lt;/li&gt;\n",
       "        &lt;ul&gt;\n",
       "        \n",
       "                 &lt;/div&gt;`,\n",
       "                {&quot;sticky&quot;: true}\n",
       "            );\n",
       "        \n",
       "&lt;/script&gt;\n",
       "&lt;/html&gt;\" style=\"position:absolute;width:100%;height:100%;left:0;top:0;border:none !important;\" allowfullscreen webkitallowfullscreen mozallowfullscreen></iframe></div></div>"
      ],
      "text/plain": [
       "<folium.folium.Map at 0x1ea0ab262e0>"
      ]
     },
     "execution_count": 47,
     "metadata": {},
     "output_type": "execute_result"
    }
   ],
   "source": [
    "import folium\n",
    "renfe_map = folium.Map(location=[renfe_preciomedio_ciudades.latitud.mean(), renfe_preciomedio_ciudades.longitud.mean()], tiles=\"cartodbpositron\", zoom_start=6)\n",
    "\n",
    "for idx, row in renfe_preciomedio_ciudades.iterrows():\n",
    "    folium.Circle(\n",
    "        location=(row[\"latitud\"], row[\"longitud\"]),\n",
    "        radius=row[\"precio\"] *500,\n",
    "        fill=True,\n",
    "        fill_opacity=0.5,\n",
    "        color=\"blue\",\n",
    "        tooltip=f\"\"\"\n",
    "        <ul>\n",
    "            <li>Ciudad: {row[0]}</li>\n",
    "            <li>Precio Medio: {row[\"precio\"]}</li>\n",
    "        <ul>\n",
    "        \"\"\"\n",
    "    ).add_to(renfe_map)\n",
    "renfe_map"
   ]
  },
  {
   "cell_type": "markdown",
   "metadata": {},
   "source": [
    "## P13: Haz una tabla de correlación, ¿hay variables númericas correladas con el precio?"
   ]
  },
  {
   "cell_type": "code",
   "execution_count": 48,
   "metadata": {},
   "outputs": [
    {
     "data": {
      "text/html": [
       "<style type=\"text/css\">\n",
       "#T_3d726_row0_col0, #T_3d726_row1_col1, #T_3d726_row2_col2, #T_3d726_row3_col3, #T_3d726_row4_col4, #T_3d726_row5_col5, #T_3d726_row6_col6 {\n",
       "  background-color: #b40426;\n",
       "  color: #f1f1f1;\n",
       "}\n",
       "#T_3d726_row0_col1, #T_3d726_row1_col0, #T_3d726_row1_col4, #T_3d726_row2_col3, #T_3d726_row3_col2, #T_3d726_row3_col5, #T_3d726_row3_col6 {\n",
       "  background-color: #3b4cc0;\n",
       "  color: #f1f1f1;\n",
       "}\n",
       "#T_3d726_row0_col2 {\n",
       "  background-color: #8db0fe;\n",
       "  color: #000000;\n",
       "}\n",
       "#T_3d726_row0_col3 {\n",
       "  background-color: #5572df;\n",
       "  color: #f1f1f1;\n",
       "}\n",
       "#T_3d726_row0_col4, #T_3d726_row5_col3 {\n",
       "  background-color: #7a9df8;\n",
       "  color: #f1f1f1;\n",
       "}\n",
       "#T_3d726_row0_col5 {\n",
       "  background-color: #8caffe;\n",
       "  color: #000000;\n",
       "}\n",
       "#T_3d726_row0_col6 {\n",
       "  background-color: #96b7ff;\n",
       "  color: #000000;\n",
       "}\n",
       "#T_3d726_row1_col2 {\n",
       "  background-color: #82a6fb;\n",
       "  color: #f1f1f1;\n",
       "}\n",
       "#T_3d726_row1_col3, #T_3d726_row4_col0, #T_3d726_row4_col3 {\n",
       "  background-color: #84a7fc;\n",
       "  color: #f1f1f1;\n",
       "}\n",
       "#T_3d726_row1_col5 {\n",
       "  background-color: #6e90f2;\n",
       "  color: #f1f1f1;\n",
       "}\n",
       "#T_3d726_row1_col6, #T_3d726_row4_col5 {\n",
       "  background-color: #4358cb;\n",
       "  color: #f1f1f1;\n",
       "}\n",
       "#T_3d726_row2_col0 {\n",
       "  background-color: #7ea1fa;\n",
       "  color: #f1f1f1;\n",
       "}\n",
       "#T_3d726_row2_col1, #T_3d726_row3_col1 {\n",
       "  background-color: #7597f6;\n",
       "  color: #f1f1f1;\n",
       "}\n",
       "#T_3d726_row2_col4 {\n",
       "  background-color: #6c8ff1;\n",
       "  color: #f1f1f1;\n",
       "}\n",
       "#T_3d726_row2_col5, #T_3d726_row4_col6 {\n",
       "  background-color: #465ecf;\n",
       "  color: #f1f1f1;\n",
       "}\n",
       "#T_3d726_row2_col6 {\n",
       "  background-color: #4a63d3;\n",
       "  color: #f1f1f1;\n",
       "}\n",
       "#T_3d726_row3_col0 {\n",
       "  background-color: #455cce;\n",
       "  color: #f1f1f1;\n",
       "}\n",
       "#T_3d726_row3_col4, #T_3d726_row6_col4 {\n",
       "  background-color: #6a8bef;\n",
       "  color: #f1f1f1;\n",
       "}\n",
       "#T_3d726_row4_col1 {\n",
       "  background-color: #445acc;\n",
       "  color: #f1f1f1;\n",
       "}\n",
       "#T_3d726_row4_col2, #T_3d726_row5_col2, #T_3d726_row6_col2 {\n",
       "  background-color: #85a8fc;\n",
       "  color: #f1f1f1;\n",
       "}\n",
       "#T_3d726_row5_col0 {\n",
       "  background-color: #b5cdfa;\n",
       "  color: #000000;\n",
       "}\n",
       "#T_3d726_row5_col1 {\n",
       "  background-color: #9bbcff;\n",
       "  color: #000000;\n",
       "}\n",
       "#T_3d726_row5_col4 {\n",
       "  background-color: #688aef;\n",
       "  color: #f1f1f1;\n",
       "}\n",
       "#T_3d726_row5_col6 {\n",
       "  background-color: #ead5c9;\n",
       "  color: #000000;\n",
       "}\n",
       "#T_3d726_row6_col0 {\n",
       "  background-color: #b9d0f9;\n",
       "  color: #000000;\n",
       "}\n",
       "#T_3d726_row6_col1 {\n",
       "  background-color: #7093f3;\n",
       "  color: #f1f1f1;\n",
       "}\n",
       "#T_3d726_row6_col3 {\n",
       "  background-color: #7699f6;\n",
       "  color: #f1f1f1;\n",
       "}\n",
       "#T_3d726_row6_col5 {\n",
       "  background-color: #e9d5cb;\n",
       "  color: #000000;\n",
       "}\n",
       "</style>\n",
       "<table id=\"T_3d726\">\n",
       "  <thead>\n",
       "    <tr>\n",
       "      <th class=\"blank level0\" >&nbsp;</th>\n",
       "      <th id=\"T_3d726_level0_col0\" class=\"col_heading level0 col0\" >precio</th>\n",
       "      <th id=\"T_3d726_level0_col1\" class=\"col_heading level0 col1\" >tiempo_de_viaje</th>\n",
       "      <th id=\"T_3d726_level0_col2\" class=\"col_heading level0 col2\" >dia_fecha_inicio</th>\n",
       "      <th id=\"T_3d726_level0_col3\" class=\"col_heading level0 col3\" >mes_fecha_inicio</th>\n",
       "      <th id=\"T_3d726_level0_col4\" class=\"col_heading level0 col4\" >hora_fecha_inicio</th>\n",
       "      <th id=\"T_3d726_level0_col5\" class=\"col_heading level0 col5\" >latitud</th>\n",
       "      <th id=\"T_3d726_level0_col6\" class=\"col_heading level0 col6\" >longitud</th>\n",
       "    </tr>\n",
       "  </thead>\n",
       "  <tbody>\n",
       "    <tr>\n",
       "      <th id=\"T_3d726_level0_row0\" class=\"row_heading level0 row0\" >precio</th>\n",
       "      <td id=\"T_3d726_row0_col0\" class=\"data row0 col0\" >1.000000</td>\n",
       "      <td id=\"T_3d726_row0_col1\" class=\"data row0 col1\" >-0.226549</td>\n",
       "      <td id=\"T_3d726_row0_col2\" class=\"data row0 col2\" >0.031131</td>\n",
       "      <td id=\"T_3d726_row0_col3\" class=\"data row0 col3\" >-0.179374</td>\n",
       "      <td id=\"T_3d726_row0_col4\" class=\"data row0 col4\" >0.048910</td>\n",
       "      <td id=\"T_3d726_row0_col5\" class=\"data row0 col5\" >0.219981</td>\n",
       "      <td id=\"T_3d726_row0_col6\" class=\"data row0 col6\" >0.238098</td>\n",
       "    </tr>\n",
       "    <tr>\n",
       "      <th id=\"T_3d726_level0_row1\" class=\"row_heading level0 row1\" >tiempo_de_viaje</th>\n",
       "      <td id=\"T_3d726_row1_col0\" class=\"data row1 col0\" >-0.226549</td>\n",
       "      <td id=\"T_3d726_row1_col1\" class=\"data row1 col1\" >1.000000</td>\n",
       "      <td id=\"T_3d726_row1_col2\" class=\"data row1 col2\" >-0.005520</td>\n",
       "      <td id=\"T_3d726_row1_col3\" class=\"data row1 col3\" >-0.001939</td>\n",
       "      <td id=\"T_3d726_row1_col4\" class=\"data row1 col4\" >-0.183787</td>\n",
       "      <td id=\"T_3d726_row1_col5\" class=\"data row1 col5\" >0.128923</td>\n",
       "      <td id=\"T_3d726_row1_col6\" class=\"data row1 col6\" >-0.018864</td>\n",
       "    </tr>\n",
       "    <tr>\n",
       "      <th id=\"T_3d726_level0_row2\" class=\"row_heading level0 row2\" >dia_fecha_inicio</th>\n",
       "      <td id=\"T_3d726_row2_col0\" class=\"data row2 col0\" >0.031131</td>\n",
       "      <td id=\"T_3d726_row2_col1\" class=\"data row2 col1\" >-0.005520</td>\n",
       "      <td id=\"T_3d726_row2_col2\" class=\"data row2 col2\" >1.000000</td>\n",
       "      <td id=\"T_3d726_row2_col3\" class=\"data row2 col3\" >-0.292580</td>\n",
       "      <td id=\"T_3d726_row2_col4\" class=\"data row2 col4\" >0.003301</td>\n",
       "      <td id=\"T_3d726_row2_col5\" class=\"data row2 col5\" >0.001803</td>\n",
       "      <td id=\"T_3d726_row2_col6\" class=\"data row2 col6\" >0.003051</td>\n",
       "    </tr>\n",
       "    <tr>\n",
       "      <th id=\"T_3d726_level0_row3\" class=\"row_heading level0 row3\" >mes_fecha_inicio</th>\n",
       "      <td id=\"T_3d726_row3_col0\" class=\"data row3 col0\" >-0.179374</td>\n",
       "      <td id=\"T_3d726_row3_col1\" class=\"data row3 col1\" >-0.001939</td>\n",
       "      <td id=\"T_3d726_row3_col2\" class=\"data row3 col2\" >-0.292580</td>\n",
       "      <td id=\"T_3d726_row3_col3\" class=\"data row3 col3\" >1.000000</td>\n",
       "      <td id=\"T_3d726_row3_col4\" class=\"data row3 col4\" >-0.004581</td>\n",
       "      <td id=\"T_3d726_row3_col5\" class=\"data row3 col5\" >-0.038777</td>\n",
       "      <td id=\"T_3d726_row3_col6\" class=\"data row3 col6\" >-0.050877</td>\n",
       "    </tr>\n",
       "    <tr>\n",
       "      <th id=\"T_3d726_level0_row4\" class=\"row_heading level0 row4\" >hora_fecha_inicio</th>\n",
       "      <td id=\"T_3d726_row4_col0\" class=\"data row4 col0\" >0.048910</td>\n",
       "      <td id=\"T_3d726_row4_col1\" class=\"data row4 col1\" >-0.183787</td>\n",
       "      <td id=\"T_3d726_row4_col2\" class=\"data row4 col2\" >0.003301</td>\n",
       "      <td id=\"T_3d726_row4_col3\" class=\"data row4 col3\" >-0.004581</td>\n",
       "      <td id=\"T_3d726_row4_col4\" class=\"data row4 col4\" >1.000000</td>\n",
       "      <td id=\"T_3d726_row4_col5\" class=\"data row4 col5\" >-0.009968</td>\n",
       "      <td id=\"T_3d726_row4_col6\" class=\"data row4 col6\" >-0.007656</td>\n",
       "    </tr>\n",
       "    <tr>\n",
       "      <th id=\"T_3d726_level0_row5\" class=\"row_heading level0 row5\" >latitud</th>\n",
       "      <td id=\"T_3d726_row5_col0\" class=\"data row5 col0\" >0.219981</td>\n",
       "      <td id=\"T_3d726_row5_col1\" class=\"data row5 col1\" >0.128923</td>\n",
       "      <td id=\"T_3d726_row5_col2\" class=\"data row5 col2\" >0.001803</td>\n",
       "      <td id=\"T_3d726_row5_col3\" class=\"data row5 col3\" >-0.038777</td>\n",
       "      <td id=\"T_3d726_row5_col4\" class=\"data row5 col4\" >-0.009968</td>\n",
       "      <td id=\"T_3d726_row5_col5\" class=\"data row5 col5\" >1.000000</td>\n",
       "      <td id=\"T_3d726_row5_col6\" class=\"data row5 col6\" >0.531514</td>\n",
       "    </tr>\n",
       "    <tr>\n",
       "      <th id=\"T_3d726_level0_row6\" class=\"row_heading level0 row6\" >longitud</th>\n",
       "      <td id=\"T_3d726_row6_col0\" class=\"data row6 col0\" >0.238098</td>\n",
       "      <td id=\"T_3d726_row6_col1\" class=\"data row6 col1\" >-0.018864</td>\n",
       "      <td id=\"T_3d726_row6_col2\" class=\"data row6 col2\" >0.003051</td>\n",
       "      <td id=\"T_3d726_row6_col3\" class=\"data row6 col3\" >-0.050877</td>\n",
       "      <td id=\"T_3d726_row6_col4\" class=\"data row6 col4\" >-0.007656</td>\n",
       "      <td id=\"T_3d726_row6_col5\" class=\"data row6 col5\" >0.531514</td>\n",
       "      <td id=\"T_3d726_row6_col6\" class=\"data row6 col6\" >1.000000</td>\n",
       "    </tr>\n",
       "  </tbody>\n",
       "</table>\n"
      ],
      "text/plain": [
       "<pandas.io.formats.style.Styler at 0x1ea0ab26100>"
      ]
     },
     "execution_count": 48,
     "metadata": {},
     "output_type": "execute_result"
    }
   ],
   "source": [
    "renfe_corr = renfe_df_coordenadas.corr()\n",
    "renfe_corr.style.background_gradient(cmap='coolwarm')"
   ]
  },
  {
   "cell_type": "markdown",
   "metadata": {},
   "source": [
    "No hay correlaciones entre las variables numéricas."
   ]
  },
  {
   "cell_type": "markdown",
   "metadata": {},
   "source": [
    "## P14: Relación entre variables del dataset y `precio`"
   ]
  },
  {
   "cell_type": "markdown",
   "metadata": {},
   "source": [
    "### P14.1: Haz un scatter plot de precio vs. tiempo de viaje"
   ]
  },
  {
   "cell_type": "code",
   "execution_count": 49,
   "metadata": {},
   "outputs": [
    {
     "data": {
      "text/plain": [
       "[Text(0, 0.5, 'Precio'), Text(0.5, 0, 'Tiempo de Viaje')]"
      ]
     },
     "execution_count": 49,
     "metadata": {},
     "output_type": "execute_result"
    },
    {
     "data": {
      "image/png": "[encoded data removed]",
      "text/plain": [
       "<Figure size 640x480 with 1 Axes>"
      ]
     },
     "metadata": {},
     "output_type": "display_data"
    }
   ],
   "source": [
    "import seaborn as sns\n",
    "g=sns.scatterplot(y='precio',x='tiempo_de_viaje',data=renfe_df)\n",
    "g.set_title('Precio vs Tiempo de Viaje')\n",
    "g.set(ylabel='Precio', xlabel='Tiempo de Viaje')"
   ]
  },
  {
   "cell_type": "markdown",
   "metadata": {},
   "source": [
    "### P14.2: Haz un boxplot de precio vs. dia de la semana"
   ]
  },
  {
   "cell_type": "code",
   "execution_count": 50,
   "metadata": {},
   "outputs": [
    {
     "data": {
      "text/plain": [
       "[Text(0.5, 0, 'Precio'), Text(0, 0.5, 'Dia de la semana')]"
      ]
     },
     "execution_count": 50,
     "metadata": {},
     "output_type": "execute_result"
    },
    {
     "data": {
      "image/png": "[encoded data removed]",
      "text/plain": [
       "<Figure size 640x480 with 1 Axes>"
      ]
     },
     "metadata": {},
     "output_type": "display_data"
    }
   ],
   "source": [
    "f=sns.boxplot(x='precio',y='dia_semana_fecha_inicio',data=renfe_df, order=['Monday','Tuesday','Wednesday','Thursday','Friday','Saturday','Sunday'])\n",
    "f.set_title('Precio vs Dia de la Semana')\n",
    "f.set(xlabel='Precio', ylabel='Dia de la semana')"
   ]
  },
  {
   "cell_type": "markdown",
   "metadata": {},
   "source": [
    "### P14.3: Gráfica el precio medio por día de la semana"
   ]
  },
  {
   "cell_type": "code",
   "execution_count": 54,
   "metadata": {},
   "outputs": [
    {
     "data": {
      "text/plain": [
       "<AxesSubplot:title={'center':'Precio medio por dia de la semana'}, xlabel='dia_semana_fecha_inicio', ylabel='Precio medio'>"
      ]
     },
     "execution_count": 54,
     "metadata": {},
     "output_type": "execute_result"
    },
    {
     "data": {
      "image/png": "[encoded data removed]",
      "text/plain": [
       "<Figure size 640x480 with 1 Axes>"
      ]
     },
     "metadata": {},
     "output_type": "display_data"
    }
   ],
   "source": [
    "\n",
    "renfe_dia_precio_medio= renfe_df.groupby('dia_semana_fecha_inicio').mean()['precio']\n",
    "renfe_dia_precio_medio=renfe_dia_precio_medio.reindex(index = ['Monday','Tuesday','Wednesday','Thursday','Friday','Saturday','Sunday'])\n",
    "renfe_dia_precio_medio.plot(kind='bar',title='Precio medio por dia de la semana',ylabel='Precio medio',rot=45,color='purple')\n",
    "\n"
   ]
  },
  {
   "cell_type": "markdown",
   "metadata": {},
   "source": [
    "## P15: Crea un nuevo dataframe donge apliques *one-hot-encoding* a las variables categoricas"
   ]
  },
  {
   "cell_type": "code",
   "execution_count": 112,
   "metadata": {},
   "outputs": [
    {
     "data": {
      "text/html": [
       "<div>\n",
       "<style scoped>\n",
       "    .dataframe tbody tr th:only-of-type {\n",
       "        vertical-align: middle;\n",
       "    }\n",
       "\n",
       "    .dataframe tbody tr th {\n",
       "        vertical-align: top;\n",
       "    }\n",
       "\n",
       "    .dataframe thead th {\n",
       "        text-align: right;\n",
       "    }\n",
       "</style>\n",
       "<table border=\"1\" class=\"dataframe\">\n",
       "  <thead>\n",
       "    <tr style=\"text-align: right;\">\n",
       "      <th></th>\n",
       "      <th>ciudad_origen</th>\n",
       "      <th>ciudad_destino</th>\n",
       "      <th>tipo_tren</th>\n",
       "      <th>tipo_tarifa</th>\n",
       "      <th>clase</th>\n",
       "      <th>precio</th>\n",
       "      <th>tiempo_de_viaje</th>\n",
       "      <th>dia_fecha_inicio</th>\n",
       "      <th>dia_semana_fecha_inicio</th>\n",
       "      <th>mes_fecha_inicio</th>\n",
       "      <th>hora_fecha_inicio</th>\n",
       "      <th>ciudad</th>\n",
       "      <th>latitud</th>\n",
       "      <th>longitud</th>\n",
       "    </tr>\n",
       "  </thead>\n",
       "  <tbody>\n",
       "    <tr>\n",
       "      <th>0</th>\n",
       "      <td>SEVILLA</td>\n",
       "      <td>MADRID</td>\n",
       "      <td>ALVIA</td>\n",
       "      <td>Flexible</td>\n",
       "      <td>Turista</td>\n",
       "      <td>67.20</td>\n",
       "      <td>158.0</td>\n",
       "      <td>28</td>\n",
       "      <td>Friday</td>\n",
       "      <td>6</td>\n",
       "      <td>20</td>\n",
       "      <td>MADRID</td>\n",
       "      <td>40.416705</td>\n",
       "      <td>-3.703582</td>\n",
       "    </tr>\n",
       "    <tr>\n",
       "      <th>1</th>\n",
       "      <td>BARCELONA</td>\n",
       "      <td>MADRID</td>\n",
       "      <td>AVE</td>\n",
       "      <td>Flexible</td>\n",
       "      <td>Turista</td>\n",
       "      <td>107.70</td>\n",
       "      <td>190.0</td>\n",
       "      <td>14</td>\n",
       "      <td>Sunday</td>\n",
       "      <td>7</td>\n",
       "      <td>10</td>\n",
       "      <td>MADRID</td>\n",
       "      <td>40.416705</td>\n",
       "      <td>-3.703582</td>\n",
       "    </tr>\n",
       "    <tr>\n",
       "      <th>2</th>\n",
       "      <td>SEVILLA</td>\n",
       "      <td>MADRID</td>\n",
       "      <td>AVE</td>\n",
       "      <td>Promo</td>\n",
       "      <td>Turista</td>\n",
       "      <td>47.30</td>\n",
       "      <td>150.0</td>\n",
       "      <td>23</td>\n",
       "      <td>Thursday</td>\n",
       "      <td>5</td>\n",
       "      <td>13</td>\n",
       "      <td>MADRID</td>\n",
       "      <td>40.416705</td>\n",
       "      <td>-3.703582</td>\n",
       "    </tr>\n",
       "    <tr>\n",
       "      <th>3</th>\n",
       "      <td>VALENCIA</td>\n",
       "      <td>MADRID</td>\n",
       "      <td>REGIONAL</td>\n",
       "      <td>Adulto ida</td>\n",
       "      <td>Turista</td>\n",
       "      <td>28.35</td>\n",
       "      <td>460.0</td>\n",
       "      <td>29</td>\n",
       "      <td>Wednesday</td>\n",
       "      <td>5</td>\n",
       "      <td>14</td>\n",
       "      <td>MADRID</td>\n",
       "      <td>40.416705</td>\n",
       "      <td>-3.703582</td>\n",
       "    </tr>\n",
       "    <tr>\n",
       "      <th>4</th>\n",
       "      <td>SEVILLA</td>\n",
       "      <td>MADRID</td>\n",
       "      <td>AVE</td>\n",
       "      <td>Promo</td>\n",
       "      <td>Turista</td>\n",
       "      <td>60.30</td>\n",
       "      <td>150.0</td>\n",
       "      <td>21</td>\n",
       "      <td>Sunday</td>\n",
       "      <td>7</td>\n",
       "      <td>8</td>\n",
       "      <td>MADRID</td>\n",
       "      <td>40.416705</td>\n",
       "      <td>-3.703582</td>\n",
       "    </tr>\n",
       "  </tbody>\n",
       "</table>\n",
       "</div>"
      ],
      "text/plain": [
       "  ciudad_origen ciudad_destino tipo_tren tipo_tarifa    clase  precio  \\\n",
       "0       SEVILLA         MADRID     ALVIA    Flexible  Turista   67.20   \n",
       "1     BARCELONA         MADRID       AVE    Flexible  Turista  107.70   \n",
       "2       SEVILLA         MADRID       AVE       Promo  Turista   47.30   \n",
       "3      VALENCIA         MADRID  REGIONAL  Adulto ida  Turista   28.35   \n",
       "4       SEVILLA         MADRID       AVE       Promo  Turista   60.30   \n",
       "\n",
       "   tiempo_de_viaje  dia_fecha_inicio dia_semana_fecha_inicio  \\\n",
       "0            158.0                28                  Friday   \n",
       "1            190.0                14                  Sunday   \n",
       "2            150.0                23                Thursday   \n",
       "3            460.0                29               Wednesday   \n",
       "4            150.0                21                  Sunday   \n",
       "\n",
       "   mes_fecha_inicio  hora_fecha_inicio  ciudad    latitud  longitud  \n",
       "0                 6                 20  MADRID  40.416705 -3.703582  \n",
       "1                 7                 10  MADRID  40.416705 -3.703582  \n",
       "2                 5                 13  MADRID  40.416705 -3.703582  \n",
       "3                 5                 14  MADRID  40.416705 -3.703582  \n",
       "4                 7                  8  MADRID  40.416705 -3.703582  "
      ]
     },
     "execution_count": 112,
     "metadata": {},
     "output_type": "execute_result"
    }
   ],
   "source": [
    "renfe_df_prueba = renfe_df_coordenadas.copy()\n",
    "renfe_df_prueba.head()\n"
   ]
  },
  {
   "cell_type": "code",
   "execution_count": 102,
   "metadata": {},
   "outputs": [
    {
     "name": "stdout",
     "output_type": "stream",
     "text": [
      "Requirement already satisfied: scikit-learn in c:\\users\\mikel\\anaconda3\\envs\\nuclio\\lib\\site-packages (1.0.2)\n",
      "Requirement already satisfied: numpy>=1.14.6 in c:\\users\\mikel\\anaconda3\\envs\\nuclio\\lib\\site-packages (from scikit-learn) (1.21.5)\n",
      "Requirement already satisfied: scipy>=1.1.0 in c:\\users\\mikel\\anaconda3\\envs\\nuclio\\lib\\site-packages (from scikit-learn) (1.9.1)\n",
      "Requirement already satisfied: threadpoolctl>=2.0.0 in c:\\users\\mikel\\anaconda3\\envs\\nuclio\\lib\\site-packages (from scikit-learn) (2.2.0)\n",
      "Requirement already satisfied: joblib>=0.11 in c:\\users\\mikel\\anaconda3\\envs\\nuclio\\lib\\site-packages (from scikit-learn) (1.1.0)\n"
     ]
    }
   ],
   "source": [
    "!pip install scikit-learn\n",
    "\n"
   ]
  },
  {
   "cell_type": "code",
   "execution_count": 62,
   "metadata": {},
   "outputs": [],
   "source": [
    "from sklearn.preprocessing import LabelEncoder\n"
   ]
  },
  {
   "cell_type": "code",
   "execution_count": 113,
   "metadata": {},
   "outputs": [],
   "source": [
    "def label_encoder(columna, data= renfe_df_prueba):\n",
    "    le = LabelEncoder()\n",
    "    le.fit(data[columna]) \n",
    "    x = le.transform(data[columna])\n",
    "    renfe_df_prueba[columna+'_encoded']=x\n",
    "    return x  "
   ]
  },
  {
   "cell_type": "code",
   "execution_count": 114,
   "metadata": {},
   "outputs": [],
   "source": [
    "columnas_categoricas = ['ciudad_origen','ciudad_destino','tipo_tren','tipo_tarifa', 'clase','dia_semana_fecha_inicio','ciudad']\n",
    "for objeto in columnas_categoricas:\n",
    "    label_encoder(objeto)"
   ]
  }
 ],
 "metadata": {
  "kernelspec": {
   "display_name": "Python 3.9.13 ('Nuclio')",
   "language": "python",
   "name": "python3"
  },
  "language_info": {
   "codemirror_mode": {
    "name": "ipython",
    "version": 3
   },
   "file_extension": ".py",
   "mimetype": "text/x-python",
   "name": "python",
   "nbconvert_exporter": "python",
   "pygments_lexer": "ipython3",
   "version": "3.9.13 (main, Aug 25 2022, 23:51:50) [MSC v.1916 64 bit (AMD64)]"
  },
  "vscode": {
   "interpreter": {
    "hash": "bfd527a036cbae41757d7f626a2afc3845fedfd70a0e62e1b070af354117852c"
   }
  }
 },
 "nbformat": 4,
 "nbformat_minor": 2
}
